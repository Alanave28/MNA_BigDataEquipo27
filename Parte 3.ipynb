{
 "cells": [
  {
   "cell_type": "markdown",
   "metadata": {},
   "source": [
    "## Parte 3: Construyendo un Sistema de Recomendacion con Feedback Implicito\n",
    "\n",
    "En este ejercicio, desarrollaremos un sistema de recomendacion con feedback implicito utilizando la libreria     [implicit](https://github.com/benfred/implicit).\n",
    "\n",
    "**Pero, a que nos referimos con feedback implicito?**\n",
    "\n",
    "En el primer ejercicio abordamos el filtro colaborativo el cual se basa en la suposicion de que `usuarios similares gustan de las mismas cosas/items`. La matriz usuario-item, o \"matriz de utilidad\" es la piedra angular del filtrado colaborativo. En la matriz de utilidad las filas representan a los usuarios y las columnas representan a los items.\n",
    "\n",
    "\n",
    "\n",
    "Las celdas de la matriz se llenan a partir del grado de preferencia de un usuario a un item determinado y esto se representa en cualquiera de las dos formas:\n",
    "1. **Feedback explicito:** feedback directo hacia un item (por ejemplo el rating de una pelicula como lo vimos en el [Ejercicio 1](https://experiencia21.tec.mx/courses/481176/assignments/15386625?module_item_id=28379086))\n",
    "\n",
    "2. **Feedback implicito:** comportamiento indirecto hacia un item (por ejemplo el historial de compra, el historial de navegacion o historial de busquedas)\n",
    "\n",
    "El feedback implicito hace suposiciones sobre las preferencias del usuario a partir de las acciones hacia dichos items. Si retomamos el ejemplo si miraste todos los episodios de un show y viste todas las temporadas en una semana, entonces existe la elevada posibilidad de que te guste ese show. Sin embargo, si empiezas a mirar una serie y te detienes a la mitad del primer episodio, entonces es probable que se pueda asumir que no te haya gustado ese show.\n",
    "\n"
   ]
  },
  {
   "cell_type": "markdown",
   "metadata": {},
   "source": [
    "### Paso 1: Agregando las Librerias\n",
    "\n",
    "Estos seran las librerias que utilizaremos:\n",
    "\n",
    "- [numpy](https://numpy.org/)\n",
    "- [pandas](https://pandas.pydata.org/)\n",
    "- [implicit](https://github.com/benfred/implicit)\n",
    "- scipy (en especifico la clase **csr_matrix**)"
   ]
  },
  {
   "cell_type": "code",
   "execution_count": 1,
   "metadata": {},
   "outputs": [
    {
     "name": "stderr",
     "output_type": "stream",
     "text": [
      "/opt/homebrew/anaconda3/lib/python3.10/site-packages/tqdm/auto.py:22: TqdmWarning: IProgress not found. Please update jupyter and ipywidgets. See https://ipywidgets.readthedocs.io/en/stable/user_install.html\n",
      "  from .autonotebook import tqdm as notebook_tqdm\n"
     ]
    }
   ],
   "source": [
    "import numpy as np\n",
    "import pandas as pd\n",
    "from scipy.sparse import csr_matrix\n",
    "\n",
    "import implicit\n",
    "\n",
    "import warnings\n",
    "warnings.simplefilter(action='ignore', category=FutureWarning)"
   ]
  },
  {
   "cell_type": "markdown",
   "metadata": {},
   "source": [
    "### Paso 2: Cargando los datos\n",
    "\n",
    "Dado que ya te has familiarizado con el dataset de BeersRating de los ejercicios 1 y 2 en este ejercicio continuaremos utilizando este dataset que puede encontrar[aqui](https://grouplens.org/datasets/movielens/), o lo puedes descargar directamente de [aqui](http://files.grouplens.org/datasets/movielens/ml-latest-small.zip). (Recuerda que estamos trabajando con los datasets `ml-latest-small.zip` )\n"
   ]
  },
  {
   "cell_type": "code",
   "execution_count": 2,
   "metadata": {},
   "outputs": [
    {
     "name": "stderr",
     "output_type": "stream",
     "text": [
      "/var/folders/rj/5tnxc9fs7jv8kk0ngkbs5_z00000gp/T/ipykernel_30763/4253166023.py:1: DtypeWarning: Columns (1) have mixed types. Specify dtype option on import or set low_memory=False.\n",
      "  df = pd.read_csv('equipo27/ratebeer.csv')\n"
     ]
    }
   ],
   "source": [
    "df = pd.read_csv('equipo27/ratebeer.csv')"
   ]
  },
  {
   "cell_type": "code",
   "execution_count": 3,
   "metadata": {},
   "outputs": [],
   "source": [
    "# Definimos una función para convertir \"x/y\" en un número flotante\n",
    "def convert_to_float(fraction):\n",
    "    num, denom = fraction.split('/')\n",
    "    return float(num) / float(denom)\n"
   ]
  },
  {
   "cell_type": "code",
   "execution_count": 4,
   "metadata": {},
   "outputs": [],
   "source": [
    "# Aplicamos la función a las columnas relevantes y añadimos nuevas columnas al DataFrame\n",
    "df['review/appearance_value'] = df['review/appearance'].apply(convert_to_float)\n",
    "df['review/aroma_value'] = df['review/aroma'].apply(convert_to_float)\n",
    "df['review/palate_value'] = df['review/palate'].apply(convert_to_float)\n",
    "df['review/taste_value'] = df['review/taste'].apply(convert_to_float)\n",
    "df['review/overall_value'] = df['review/overall'].apply(convert_to_float)\n",
    "df['review/overall_value_int'] = (df['review/overall_value'] * 10).astype(int)"
   ]
  },
  {
   "cell_type": "code",
   "execution_count": 5,
   "metadata": {},
   "outputs": [
    {
     "data": {
      "text/html": [
       "<div>\n",
       "<style scoped>\n",
       "    .dataframe tbody tr th:only-of-type {\n",
       "        vertical-align: middle;\n",
       "    }\n",
       "\n",
       "    .dataframe tbody tr th {\n",
       "        vertical-align: top;\n",
       "    }\n",
       "\n",
       "    .dataframe thead th {\n",
       "        text-align: right;\n",
       "    }\n",
       "</style>\n",
       "<table border=\"1\" class=\"dataframe\">\n",
       "  <thead>\n",
       "    <tr style=\"text-align: right;\">\n",
       "      <th></th>\n",
       "      <th>beer/name</th>\n",
       "      <th>beer/beerId</th>\n",
       "      <th>beer/brewerId</th>\n",
       "      <th>beer/ABV</th>\n",
       "      <th>beer/style</th>\n",
       "      <th>review/appearance</th>\n",
       "      <th>review/aroma</th>\n",
       "      <th>review/palate</th>\n",
       "      <th>review/taste</th>\n",
       "      <th>review/overall</th>\n",
       "      <th>review/time</th>\n",
       "      <th>review/profileName</th>\n",
       "      <th>review/text</th>\n",
       "      <th>review/appearance_value</th>\n",
       "      <th>review/aroma_value</th>\n",
       "      <th>review/palate_value</th>\n",
       "      <th>review/taste_value</th>\n",
       "      <th>review/overall_value</th>\n",
       "      <th>review/overall_value_int</th>\n",
       "    </tr>\n",
       "  </thead>\n",
       "  <tbody>\n",
       "    <tr>\n",
       "      <th>0</th>\n",
       "      <td>John Harvards Simcoe IPA</td>\n",
       "      <td>63836</td>\n",
       "      <td>8481</td>\n",
       "      <td>5.4</td>\n",
       "      <td>India Pale Ale (IPA)</td>\n",
       "      <td>4/5</td>\n",
       "      <td>6/10</td>\n",
       "      <td>3/5</td>\n",
       "      <td>6/10</td>\n",
       "      <td>13/20</td>\n",
       "      <td>1157587200</td>\n",
       "      <td>hopdog</td>\n",
       "      <td>On tap at the Springfield, PA location. Poured...</td>\n",
       "      <td>0.8</td>\n",
       "      <td>0.6</td>\n",
       "      <td>0.6</td>\n",
       "      <td>0.6</td>\n",
       "      <td>0.65</td>\n",
       "      <td>6</td>\n",
       "    </tr>\n",
       "    <tr>\n",
       "      <th>1</th>\n",
       "      <td>John Harvards Simcoe IPA</td>\n",
       "      <td>63836</td>\n",
       "      <td>8481</td>\n",
       "      <td>5.4</td>\n",
       "      <td>India Pale Ale (IPA)</td>\n",
       "      <td>4/5</td>\n",
       "      <td>6/10</td>\n",
       "      <td>4/5</td>\n",
       "      <td>7/10</td>\n",
       "      <td>13/20</td>\n",
       "      <td>1157241600</td>\n",
       "      <td>TomDecapolis</td>\n",
       "      <td>On tap at the John Harvards in Springfield PA....</td>\n",
       "      <td>0.8</td>\n",
       "      <td>0.6</td>\n",
       "      <td>0.8</td>\n",
       "      <td>0.7</td>\n",
       "      <td>0.65</td>\n",
       "      <td>6</td>\n",
       "    </tr>\n",
       "    <tr>\n",
       "      <th>2</th>\n",
       "      <td>John Harvards Cristal Pilsner</td>\n",
       "      <td>71716</td>\n",
       "      <td>8481</td>\n",
       "      <td>5</td>\n",
       "      <td>Bohemian Pilsener</td>\n",
       "      <td>4/5</td>\n",
       "      <td>5/10</td>\n",
       "      <td>3/5</td>\n",
       "      <td>6/10</td>\n",
       "      <td>14/20</td>\n",
       "      <td>958694400</td>\n",
       "      <td>PhillyBeer2112</td>\n",
       "      <td>UPDATED: FEB 19, 2003 Springfield, PA. Ive nev...</td>\n",
       "      <td>0.8</td>\n",
       "      <td>0.5</td>\n",
       "      <td>0.6</td>\n",
       "      <td>0.6</td>\n",
       "      <td>0.70</td>\n",
       "      <td>7</td>\n",
       "    </tr>\n",
       "    <tr>\n",
       "      <th>3</th>\n",
       "      <td>John Harvards Fancy Lawnmower Beer</td>\n",
       "      <td>64125</td>\n",
       "      <td>8481</td>\n",
       "      <td>5.4</td>\n",
       "      <td>Klsch</td>\n",
       "      <td>2/5</td>\n",
       "      <td>4/10</td>\n",
       "      <td>2/5</td>\n",
       "      <td>4/10</td>\n",
       "      <td>8/20</td>\n",
       "      <td>1157587200</td>\n",
       "      <td>TomDecapolis</td>\n",
       "      <td>On tap the Springfield PA location billed as t...</td>\n",
       "      <td>0.4</td>\n",
       "      <td>0.4</td>\n",
       "      <td>0.4</td>\n",
       "      <td>0.4</td>\n",
       "      <td>0.40</td>\n",
       "      <td>4</td>\n",
       "    </tr>\n",
       "    <tr>\n",
       "      <th>4</th>\n",
       "      <td>John Harvards Fancy Lawnmower Beer</td>\n",
       "      <td>64125</td>\n",
       "      <td>8481</td>\n",
       "      <td>5.4</td>\n",
       "      <td>Klsch</td>\n",
       "      <td>2/5</td>\n",
       "      <td>4/10</td>\n",
       "      <td>2/5</td>\n",
       "      <td>4/10</td>\n",
       "      <td>8/20</td>\n",
       "      <td>1157587200</td>\n",
       "      <td>hopdog</td>\n",
       "      <td>On tap at the Springfield, PA location. Poured...</td>\n",
       "      <td>0.4</td>\n",
       "      <td>0.4</td>\n",
       "      <td>0.4</td>\n",
       "      <td>0.4</td>\n",
       "      <td>0.40</td>\n",
       "      <td>4</td>\n",
       "    </tr>\n",
       "  </tbody>\n",
       "</table>\n",
       "</div>"
      ],
      "text/plain": [
       "                            beer/name beer/beerId  beer/brewerId beer/ABV  \\\n",
       "0            John Harvards Simcoe IPA       63836           8481      5.4   \n",
       "1            John Harvards Simcoe IPA       63836           8481      5.4   \n",
       "2       John Harvards Cristal Pilsner       71716           8481        5   \n",
       "3  John Harvards Fancy Lawnmower Beer       64125           8481      5.4   \n",
       "4  John Harvards Fancy Lawnmower Beer       64125           8481      5.4   \n",
       "\n",
       "             beer/style review/appearance review/aroma review/palate  \\\n",
       "0  India Pale Ale (IPA)               4/5         6/10           3/5   \n",
       "1  India Pale Ale (IPA)               4/5         6/10           4/5   \n",
       "2     Bohemian Pilsener               4/5         5/10           3/5   \n",
       "3                 Klsch               2/5         4/10           2/5   \n",
       "4                 Klsch               2/5         4/10           2/5   \n",
       "\n",
       "  review/taste review/overall  review/time review/profileName  \\\n",
       "0         6/10          13/20   1157587200             hopdog   \n",
       "1         7/10          13/20   1157241600       TomDecapolis   \n",
       "2         6/10          14/20    958694400     PhillyBeer2112   \n",
       "3         4/10           8/20   1157587200       TomDecapolis   \n",
       "4         4/10           8/20   1157587200             hopdog   \n",
       "\n",
       "                                         review/text  review/appearance_value  \\\n",
       "0  On tap at the Springfield, PA location. Poured...                      0.8   \n",
       "1  On tap at the John Harvards in Springfield PA....                      0.8   \n",
       "2  UPDATED: FEB 19, 2003 Springfield, PA. Ive nev...                      0.8   \n",
       "3  On tap the Springfield PA location billed as t...                      0.4   \n",
       "4  On tap at the Springfield, PA location. Poured...                      0.4   \n",
       "\n",
       "   review/aroma_value  review/palate_value  review/taste_value  \\\n",
       "0                 0.6                  0.6                 0.6   \n",
       "1                 0.6                  0.8                 0.7   \n",
       "2                 0.5                  0.6                 0.6   \n",
       "3                 0.4                  0.4                 0.4   \n",
       "4                 0.4                  0.4                 0.4   \n",
       "\n",
       "   review/overall_value  review/overall_value_int  \n",
       "0                  0.65                         6  \n",
       "1                  0.65                         6  \n",
       "2                  0.70                         7  \n",
       "3                  0.40                         4  \n",
       "4                  0.40                         4  "
      ]
     },
     "execution_count": 5,
     "metadata": {},
     "output_type": "execute_result"
    }
   ],
   "source": [
    "df.head()"
   ]
  },
  {
   "cell_type": "code",
   "execution_count": 6,
   "metadata": {},
   "outputs": [
    {
     "data": {
      "text/plain": [
       "(2864206, 9)"
      ]
     },
     "execution_count": 6,
     "metadata": {},
     "output_type": "execute_result"
    }
   ],
   "source": [
    "base_rate = df[['review/profileName', 'beer/beerId', 'review/appearance_value', 'review/aroma_value', 'review/palate_value', 'review/taste_value', 'review/overall_value', 'review/overall_value_int', 'review/time']]\n",
    "base_rate = base_rate.drop_duplicates(keep=\"last\", subset=['review/profileName', 'beer/beerId'])\n",
    "base_rate.shape"
   ]
  },
  {
   "cell_type": "code",
   "execution_count": 7,
   "metadata": {},
   "outputs": [
    {
     "data": {
      "text/plain": [
       "(110647, 5)"
      ]
     },
     "execution_count": 7,
     "metadata": {},
     "output_type": "execute_result"
    }
   ],
   "source": [
    "base_beers = df[['beer/beerId', 'beer/name', 'beer/style', 'beer/brewerId', 'beer/ABV']]\n",
    "base_beers = base_beers.drop_duplicates(keep=\"last\", subset=['beer/beerId'])\n",
    "base_beers.shape"
   ]
  },
  {
   "cell_type": "code",
   "execution_count": 8,
   "metadata": {},
   "outputs": [],
   "source": [
    "ratings = base_rate\n",
    "beers = base_beers"
   ]
  },
  {
   "cell_type": "markdown",
   "metadata": {},
   "source": [
    "Revisamos el contenido de ratings"
   ]
  },
  {
   "cell_type": "code",
   "execution_count": 9,
   "metadata": {},
   "outputs": [
    {
     "data": {
      "text/html": [
       "<div>\n",
       "<style scoped>\n",
       "    .dataframe tbody tr th:only-of-type {\n",
       "        vertical-align: middle;\n",
       "    }\n",
       "\n",
       "    .dataframe tbody tr th {\n",
       "        vertical-align: top;\n",
       "    }\n",
       "\n",
       "    .dataframe thead th {\n",
       "        text-align: right;\n",
       "    }\n",
       "</style>\n",
       "<table border=\"1\" class=\"dataframe\">\n",
       "  <thead>\n",
       "    <tr style=\"text-align: right;\">\n",
       "      <th></th>\n",
       "      <th>review/profileName</th>\n",
       "      <th>beer/beerId</th>\n",
       "      <th>review/appearance_value</th>\n",
       "      <th>review/aroma_value</th>\n",
       "      <th>review/palate_value</th>\n",
       "      <th>review/taste_value</th>\n",
       "      <th>review/overall_value</th>\n",
       "      <th>review/overall_value_int</th>\n",
       "      <th>review/time</th>\n",
       "    </tr>\n",
       "  </thead>\n",
       "  <tbody>\n",
       "    <tr>\n",
       "      <th>0</th>\n",
       "      <td>hopdog</td>\n",
       "      <td>63836</td>\n",
       "      <td>0.8</td>\n",
       "      <td>0.6</td>\n",
       "      <td>0.6</td>\n",
       "      <td>0.6</td>\n",
       "      <td>0.65</td>\n",
       "      <td>6</td>\n",
       "      <td>1157587200</td>\n",
       "    </tr>\n",
       "    <tr>\n",
       "      <th>1</th>\n",
       "      <td>TomDecapolis</td>\n",
       "      <td>63836</td>\n",
       "      <td>0.8</td>\n",
       "      <td>0.6</td>\n",
       "      <td>0.8</td>\n",
       "      <td>0.7</td>\n",
       "      <td>0.65</td>\n",
       "      <td>6</td>\n",
       "      <td>1157241600</td>\n",
       "    </tr>\n",
       "    <tr>\n",
       "      <th>2</th>\n",
       "      <td>PhillyBeer2112</td>\n",
       "      <td>71716</td>\n",
       "      <td>0.8</td>\n",
       "      <td>0.5</td>\n",
       "      <td>0.6</td>\n",
       "      <td>0.6</td>\n",
       "      <td>0.70</td>\n",
       "      <td>7</td>\n",
       "      <td>958694400</td>\n",
       "    </tr>\n",
       "    <tr>\n",
       "      <th>3</th>\n",
       "      <td>TomDecapolis</td>\n",
       "      <td>64125</td>\n",
       "      <td>0.4</td>\n",
       "      <td>0.4</td>\n",
       "      <td>0.4</td>\n",
       "      <td>0.4</td>\n",
       "      <td>0.40</td>\n",
       "      <td>4</td>\n",
       "      <td>1157587200</td>\n",
       "    </tr>\n",
       "    <tr>\n",
       "      <th>4</th>\n",
       "      <td>hopdog</td>\n",
       "      <td>64125</td>\n",
       "      <td>0.4</td>\n",
       "      <td>0.4</td>\n",
       "      <td>0.4</td>\n",
       "      <td>0.4</td>\n",
       "      <td>0.40</td>\n",
       "      <td>4</td>\n",
       "      <td>1157587200</td>\n",
       "    </tr>\n",
       "  </tbody>\n",
       "</table>\n",
       "</div>"
      ],
      "text/plain": [
       "  review/profileName beer/beerId  review/appearance_value  review/aroma_value  \\\n",
       "0             hopdog       63836                      0.8                 0.6   \n",
       "1       TomDecapolis       63836                      0.8                 0.6   \n",
       "2     PhillyBeer2112       71716                      0.8                 0.5   \n",
       "3       TomDecapolis       64125                      0.4                 0.4   \n",
       "4             hopdog       64125                      0.4                 0.4   \n",
       "\n",
       "   review/palate_value  review/taste_value  review/overall_value  \\\n",
       "0                  0.6                 0.6                  0.65   \n",
       "1                  0.8                 0.7                  0.65   \n",
       "2                  0.6                 0.6                  0.70   \n",
       "3                  0.4                 0.4                  0.40   \n",
       "4                  0.4                 0.4                  0.40   \n",
       "\n",
       "   review/overall_value_int  review/time  \n",
       "0                         6   1157587200  \n",
       "1                         6   1157241600  \n",
       "2                         7    958694400  \n",
       "3                         4   1157587200  \n",
       "4                         4   1157587200  "
      ]
     },
     "execution_count": 9,
     "metadata": {},
     "output_type": "execute_result"
    }
   ],
   "source": [
    "ratings.head()"
   ]
  },
  {
   "cell_type": "markdown",
   "metadata": {},
   "source": [
    "En este ejercicio, definiremos el rating de las cervezas como el numero de veces que un usuario las ha tomado. Por ejemplo, si hopdog (un usuario en nuestro dataset) le dio a la cerveza `John Harvards Simcoe IPA` un rating de 0.65 y a `John Harvards Fancy Lawnmower Beer` un rating de 0.4, podemos asumir que ha probado la cerveza  `John Harvards Simcoe IPA` unas 6 veces y la `John Harvards Fancy Lawnmower Beer` un total de 4 veces."
   ]
  },
  {
   "cell_type": "markdown",
   "metadata": {},
   "source": [
    "### NOTA ###\n",
    "\n",
    "Es necesario realizar una limpieza del dataset antes de proceder con el ejercicio pues contiene registros duplicados que arrojaran un problema en el numero de registros de los titulos de las peliculas. \n",
    "\n",
    "Para lo cual es necesario eliminar duplicados que contiene el dataset de peliculas y proceder con el ejercicio"
   ]
  },
  {
   "cell_type": "markdown",
   "metadata": {},
   "source": [
    "### Paso 3: Transformando los datos\n",
    "\n",
    "Tal y como lo hicimos en el [Ejercicio 1](https://experiencia21.tec.mx/courses/481176/assignments/15386625?module_item_id=28379086), necesitamos transformar el dataframe de `ratings` a una matriz usuario-item donde las filas representan a los usuarios y las columnas representan a las cervezas. Las celdas en esta matriz contendran el feedback implicito que en este caso es el numero de veces que un usuario ha visto una pelicula.\n",
    "\n",
    "La funcion  `create_X()` crea una matriz de dispersion **X** con 4 diccionarios de mapeo:\n",
    "\n",
    "- **user_mapper:** mapea user id al user index\n",
    "- **beer_mapper:** mapea beer id al beer index\n",
    "- **user_inv_mapper:** mapea user index al user id\n",
    "- **beer_inv_mapper:** mapea beer index al beer id\n",
    "\n",
    "Necesitamos estos diccionario por que hay que mapear las filas y columnas con la matriz de utilidad que les corresponde al user ID con su beer ID respectivamente.\n",
    "\n",
    "Esta matriz dispersa **usuario-item** es una matriz que se obtiene al `usar scipy.sparse.csr_matrix`que almacena los datos de una manera dispersa."
   ]
  },
  {
   "cell_type": "code",
   "execution_count": 10,
   "metadata": {},
   "outputs": [],
   "source": [
    "def create_X(dat_frame: pd.DataFrame):\n",
    "    \"\"\"\n",
    "    Generates a sparse matrix from ratings dataframe.\n",
    "    \n",
    "    Args:\n",
    "        df: pandas dataframe\n",
    "    \n",
    "    Returns:\n",
    "        X: sparse matrix\n",
    "        user_mapper: dict that maps user id's to user indices\n",
    "        user_inv_mapper: dict that maps user indices to user id's\n",
    "        beer_mapper: dict that maps movie id's to movie indices\n",
    "        beer_inv_mapper: dict that maps movie indices to movie id's\n",
    "    \"\"\"\n",
    "    N = dat_frame['review/profileName'].astype(str).nunique()\n",
    "    B = dat_frame['beer/beerId'].astype(str).nunique()\n",
    "\n",
    "    user_mapper = dict(zip(np.unique(dat_frame[\"review/profileName\"].astype(str)), list(range(N))))\n",
    "    beer_mapper = dict(zip(np.unique(dat_frame[\"beer/beerId\"].astype(str)), list(range(B))))\n",
    "    \n",
    "    user_inv_mapper = dict(zip(list(range(N)), np.unique(dat_frame[\"review/profileName\"].astype(str))))\n",
    "    beer_inv_mapper = dict(zip(list(range(B)), np.unique(dat_frame[\"beer/beerId\"].astype(str))))\n",
    "    \n",
    "    user_index = [user_mapper[i] for i in dat_frame['review/profileName'].astype(str)]\n",
    "    beer_index = [beer_mapper[i] for i in dat_frame['beer/beerId'].astype(str)]\n",
    "\n",
    "    X = csr_matrix((dat_frame[\"review/overall_value_int\"], (beer_index, user_index)), shape=(B, N))\n",
    "    \n",
    "    return X, user_mapper, beer_mapper, user_inv_mapper, beer_inv_mapper"
   ]
  },
  {
   "cell_type": "code",
   "execution_count": 11,
   "metadata": {},
   "outputs": [],
   "source": [
    "valor = '<'\n",
    "if valor in ratings['beer/beerId'].values:\n",
    "    print(f\"El valor {valor} está presente en la columna 'beer/beerId'.\")"
   ]
  },
  {
   "cell_type": "code",
   "execution_count": 12,
   "metadata": {},
   "outputs": [],
   "source": [
    "X, user_mapper, beer_mapper, user_inv_mapper, beer_inv_mapper = create_X(ratings)"
   ]
  },
  {
   "cell_type": "markdown",
   "metadata": {},
   "source": [
    "### Creando los Mapeos de los nombres de las cervezas\n",
    "\n",
    "Necesitamos traducir el nombre de una cerveza a partir de su indice en la matriz usuario-item y vice versa. Vamos a crear dos funciones que nos ayuden con esta traduccion.\n",
    "\n",
    "- `get_beer_index()` - convierte el nombre de una cerveza a su indice. Hace uso de la funcion de comparacion de strings que se le pasan a [fuzzywuzzy](https://github.com/seatgeek/fuzzywuzzy) \n",
    " para obtener el nombre de una cerveza que se le pase. Esto significa que no necesitamos saber la forma de escribir o el formato de una cerveza para obtener su indice.\n",
    "\n",
    "- `get_beer_title()` - convierte el indice de una cerveza a su nombre."
   ]
  },
  {
   "cell_type": "code",
   "execution_count": 13,
   "metadata": {},
   "outputs": [],
   "source": [
    "from fuzzywuzzy import process\n",
    "\n",
    "def beer_finder(title):\n",
    "    all_titles = beers['beer/name'].tolist()\n",
    "    closest_match = process.extractOne(title, all_titles)\n",
    "    return closest_match[0]\n",
    "\n",
    "beer_title_mapper = dict(zip(beers['beer/name'], beers['beer/beerId']))\n",
    "beer_title_inv_mapper = dict(zip(beers['beer/beerId'], beers['beer/name']))\n",
    "\n",
    "def get_beer_index(title):\n",
    "    fuzzy_title = beer_finder(title)\n",
    "    beer_id = beer_title_mapper[fuzzy_title]\n",
    "    beer_idx = beer_mapper[str(beer_id)]\n",
    "    return beer_idx\n",
    "\n",
    "def get_beer_title(beer_idx): \n",
    "    beer_id = beer_inv_mapper[beer_idx]\n",
    "    title = beer_title_inv_mapper[int(beer_id)]\n",
    "    return title "
   ]
  },
  {
   "cell_type": "markdown",
   "metadata": {},
   "source": [
    "Vamos a probar esta funcion para obtener el indice de `John Harvards Cristal Pilsner`. "
   ]
  },
  {
   "cell_type": "code",
   "execution_count": 14,
   "metadata": {},
   "outputs": [
    {
     "data": {
      "text/plain": [
       "35047"
      ]
     },
     "execution_count": 14,
     "metadata": {},
     "output_type": "execute_result"
    }
   ],
   "source": [
    "get_beer_index('John Harvards Cristal Pilsner')"
   ]
  },
  {
   "cell_type": "markdown",
   "metadata": {},
   "source": [
    "Utilizemos el indice obtenido con la funcion `get_beer_title()`. Tendremos que obtener el nombre de John Harvards Cristal Pilsner."
   ]
  },
  {
   "cell_type": "code",
   "execution_count": 15,
   "metadata": {},
   "outputs": [
    {
     "data": {
      "text/plain": [
       "'John Harvards Cristal Pilsner'"
      ]
     },
     "execution_count": 15,
     "metadata": {},
     "output_type": "execute_result"
    }
   ],
   "source": [
    "get_beer_title(35047)"
   ]
  },
  {
   "cell_type": "markdown",
   "metadata": {},
   "source": [
    "Con esto podemos comprobar que las funciones nos permitiran interpretar las recomendaciones obtenidas del sistema."
   ]
  },
  {
   "cell_type": "markdown",
   "metadata": {},
   "source": [
    "### Paso 4: Construyendo el modelo de modelo de Recomendacion de Feedback Implicito\n",
    "\n",
    "Una vez que hemos transformado nuestros datos ahora si podemos empezar a construir nuestro modelo de recomendacion.\n",
    "\n",
    "\n",
    "La libreria [implicit](https://github.com/benfred/implicit) esta basada en un factorizacion de matrices (tomado del algebra lineal). Esto nos permite hallar caracteristicas\n",
    "latentes que se esconden en las interacciones entre los usuarios y las cervazas. Estas caracteristicas latentes nos brindan una representacion mas compacta de los gustos\n",
    "de los usuarios y la descripcion de un item. La factorizacion matricial es particularmente util para datos muy dispersos y puede mejorar la calidad de las recomendaciones\n",
    "obtenidas. El algoritmo opera al factorizar la matris usuario-item en dos matrices:\n",
    "\n",
    "- matriz usuario-factorers  (n_users, k)\n",
    "- matriz item-factorers     (k, n_items)\n",
    "\n",
    "Reduciremos las dimensiones de nuestra matriz original a nuestras dimensiones particulares. No es posible interpretar cada caracteristica latente $k$. Sin embargo,\n",
    "podemos suponer que una caracteristica latente puede representar a los usuarios que gusten de un estilo India Pale Ale (IPA) de cerveza, mientras que otra caracteristica lantente\n",
    "puede representar a cervezas independientes extranjeras.\n",
    "\n",
    "\n",
    "$$X_{mn} \\approx P_{mk} \\times Q_{nk}^T = \\hat{X}$$\n",
    "\n",
    "\n",
    "\n",
    "En el caso de una factorizacion matricial tradicional como [SVD](https://www.freecodecamp.org/news/singular-value-decomposition-vs-matrix-factorization-in-recommender-systems-b1e99bc73599/) lo que hariamos seria intentar resolver la factorizacion de una sola vez, sin embargo esto resultaria muy costoso computacionalmente. Otra forma de atacar este problem es utilizando una tecnica denominada\n",
    "[Minimos Cuadrados Alternos, Alternating Least Squares (ALS)](https://sophwats.github.io/2018-04-05-gentle-als.html). Ocupando ALS, podemos resolver una matriz de factores a la vez:\n",
    "\n",
    "- Paso 1: Fijamos la matriz de factores de usuario (user-factor) y resolvemos la matriz de factores de elementos (item-factor)\n",
    "- Paso 2: Fijamos la matriz de factores de elementos (item-factor) y resolvemos la matriz de factores de usuario (user-factor)\n",
    "\n",
    "Al alternar los pasos 1 y 2 hasta que el producto punto de la matriz de factores de elementos (item-factor) y la matriz de factores de usuarios (user-item) es aproximadamente igual a la matrix original X (user-item). Este procedimiento es comptacionalmente menos costoso y puede ser parelelizado.\n",
    "\n",
    "La libreria `implicit` implementa una factorizacion matricial utilizando ALS (puedes consultar los detalles [aqui](https://implicit.readthedocs.io/en/latest/als.html))"
   ]
  },
  {
   "cell_type": "code",
   "execution_count": 16,
   "metadata": {},
   "outputs": [
    {
     "name": "stderr",
     "output_type": "stream",
     "text": [
      "/opt/homebrew/anaconda3/lib/python3.10/site-packages/implicit/cpu/als.py:95: RuntimeWarning: OpenBLAS is configured to use 8 threads. It is highly recommended to disable its internal threadpool by setting the environment variable 'OPENBLAS_NUM_THREADS=1' or by calling 'threadpoolctl.threadpool_limits(1, \"blas\")'. Having OpenBLAS use a threadpool can lead to severe performance issues here.\n",
      "  check_blas_config()\n"
     ]
    }
   ],
   "source": [
    "model = implicit.als.AlternatingLeastSquares(factors=50)\n"
   ]
  },
  {
   "cell_type": "markdown",
   "metadata": {},
   "source": [
    "Este modelo viene con algunos hyperparametros que deben ser ajustados para generar resultados optimos:\n",
    "\n",
    "- los factores ($k$): numero de factores latentes,\n",
    "- regularizacion ($\\lambda$): evita que el modelo caiga en overfitting durante el entrenamiento\n",
    "\n",
    "Para este ejercicio definiremos $k = 50$ y $\\lambda = 0.01$ como los valores a utilizar. \n",
    "\n",
    "El siguiente paso ahora es ajustar nuestro modelo a la matriz user-item.\n"
   ]
  },
  {
   "cell_type": "code",
   "execution_count": 17,
   "metadata": {},
   "outputs": [
    {
     "name": "stderr",
     "output_type": "stream",
     "text": [
      "100%|██████████| 15/15 [02:52<00:00, 11.51s/it]\n"
     ]
    }
   ],
   "source": [
    "model.fit(X.T.tocsr())"
   ]
  },
  {
   "cell_type": "markdown",
   "metadata": {},
   "source": [
    "\n",
    "Ahora pongamos a prueba las recomendaciones de nuestro modelo. Podemos utilizar el metodo `similar_items()` que nos muestra las cervezas mas relevantes dada una cerveza en especifico. De igual forma, podemos utilizar la funcion `get_beer_index()` para obtener el indice de la cerveza si es que es una cerveza que nos interesa a partir de las recomendaciones obtenidas."
   ]
  },
  {
   "cell_type": "code",
   "execution_count": 18,
   "metadata": {},
   "outputs": [
    {
     "data": {
      "text/plain": [
       "(array([  5146, 105258,   3961,   5270,  31584,  15137,  19122,  39767,\n",
       "         37904, 102911], dtype=int32),\n",
       " array([1.0000001 , 0.9557607 , 0.9528838 , 0.9325972 , 0.92886746,\n",
       "        0.9241434 , 0.920319  , 0.9086316 , 0.9071206 , 0.90202886],\n",
       "       dtype=float32))"
      ]
     },
     "execution_count": 18,
     "metadata": {},
     "output_type": "execute_result"
    }
   ],
   "source": [
    "beer_of_interest = 'Twains Saramonial Saison'\n",
    "\n",
    "beer_index = get_beer_index(beer_of_interest)\n",
    "related = model.similar_items(beer_index)\n",
    "related"
   ]
  },
  {
   "cell_type": "markdown",
   "metadata": {},
   "source": [
    "Lo que obtenemos de `similar_items()` no es facil de leer por lo que necesitamos de la funcion `get_beer_title()` para interpretar los resultados."
   ]
  },
  {
   "cell_type": "code",
   "execution_count": 20,
   "metadata": {},
   "outputs": [
    {
     "name": "stdout",
     "output_type": "stream",
     "text": [
      "Por que porbaste la cerveza Twains Saramonial Saison te pueden interesar las siguientes cervezas:\n",
      "Twains Honest Lender Imperial Brown\n",
      "Red Brick Solstice Roggenbock\n",
      "5 Seasons Westside Big Matts ESB\n",
      "5 Seasons North Pepe le Pew Skunky Saison\n",
      "5 Seasons Westside Spring Bock\n",
      "5 Seasons Damage Control  Pale Ale\n",
      "Red Hare Gangway IPA\n",
      "Heinzelmannchen Dunkel Weiss\n"
     ]
    }
   ],
   "source": [
    "print(f\"Por que porbaste la cerveza {beer_finder(beer_of_interest)} te pueden interesar las siguientes cervezas:\")\n",
    "\n",
    "for t, r in zip(related[0], related[1]):\n",
    "    try:\n",
    "        recommended_title = get_beer_title(t)\n",
    "        if recommended_title != beer_finder(beer_of_interest):\n",
    "            print(recommended_title)\n",
    "    except:\n",
    "        continue\n",
    "\n"
   ]
  },
  {
   "cell_type": "markdown",
   "metadata": {},
   "source": [
    "Al usar el rating de los usuarios como feedback implicito, los resultados se ven bien. Intenta cambiando la variable `beer_of_interest`."
   ]
  },
  {
   "cell_type": "markdown",
   "metadata": {},
   "source": [
    "### Paso 5: Generando las recomendaciones del usuario\n",
    "\n",
    "Una caracteristica interesante de `implicit` es que puedes obtener recomendaciones personalizadas para un usuario determinado. Intentemos ver los resultados con un usuario especifico de nuestro dataset."
   ]
  },
  {
   "cell_type": "code",
   "execution_count": 21,
   "metadata": {},
   "outputs": [],
   "source": [
    "user_id = 'PhillyBeer2112'"
   ]
  },
  {
   "cell_type": "code",
   "execution_count": 22,
   "metadata": {},
   "outputs": [
    {
     "name": "stdout",
     "output_type": "stream",
     "text": [
      "El numero de cervezas rankeadas por el usuario PhillyBeer2112 es de: 2090\n"
     ]
    }
   ],
   "source": [
    "user_ratings = ratings[ratings['review/profileName']==user_id].merge(beers[['beer/beerId', 'beer/name']])\n",
    "user_ratings = user_ratings.sort_values('review/overall_value_int', ascending=False)\n",
    "print(f\"El numero de cervezas rankeadas por el usuario {user_id} es de: {user_ratings['beer/beerId'].nunique()}\")"
   ]
  },
  {
   "cell_type": "markdown",
   "metadata": {},
   "source": [
    "En este caso vemos que el usuario PhillyBeer2112 probó 2090 cervezas y el rating de su favoritas son:"
   ]
  },
  {
   "cell_type": "code",
   "execution_count": 23,
   "metadata": {},
   "outputs": [
    {
     "data": {
      "text/html": [
       "<div>\n",
       "<style scoped>\n",
       "    .dataframe tbody tr th:only-of-type {\n",
       "        vertical-align: middle;\n",
       "    }\n",
       "\n",
       "    .dataframe tbody tr th {\n",
       "        vertical-align: top;\n",
       "    }\n",
       "\n",
       "    .dataframe thead th {\n",
       "        text-align: right;\n",
       "    }\n",
       "</style>\n",
       "<table border=\"1\" class=\"dataframe\">\n",
       "  <thead>\n",
       "    <tr style=\"text-align: right;\">\n",
       "      <th></th>\n",
       "      <th>review/profileName</th>\n",
       "      <th>beer/beerId</th>\n",
       "      <th>review/appearance_value</th>\n",
       "      <th>review/aroma_value</th>\n",
       "      <th>review/palate_value</th>\n",
       "      <th>review/taste_value</th>\n",
       "      <th>review/overall_value</th>\n",
       "      <th>review/overall_value_int</th>\n",
       "      <th>review/time</th>\n",
       "      <th>beer/name</th>\n",
       "    </tr>\n",
       "  </thead>\n",
       "  <tbody>\n",
       "    <tr>\n",
       "      <th>755</th>\n",
       "      <td>PhillyBeer2112</td>\n",
       "      <td>98973</td>\n",
       "      <td>0.8</td>\n",
       "      <td>0.8</td>\n",
       "      <td>1.0</td>\n",
       "      <td>1.0</td>\n",
       "      <td>1.0</td>\n",
       "      <td>10</td>\n",
       "      <td>1275436800</td>\n",
       "      <td>Founders CBS (Canadian Breakfast Stout)</td>\n",
       "    </tr>\n",
       "    <tr>\n",
       "      <th>562</th>\n",
       "      <td>PhillyBeer2112</td>\n",
       "      <td>10908</td>\n",
       "      <td>1.0</td>\n",
       "      <td>1.0</td>\n",
       "      <td>1.0</td>\n",
       "      <td>1.0</td>\n",
       "      <td>1.0</td>\n",
       "      <td>10</td>\n",
       "      <td>1053475200</td>\n",
       "      <td>Oud Beersel Oude Kriek</td>\n",
       "    </tr>\n",
       "    <tr>\n",
       "      <th>53</th>\n",
       "      <td>PhillyBeer2112</td>\n",
       "      <td>5141</td>\n",
       "      <td>0.8</td>\n",
       "      <td>0.9</td>\n",
       "      <td>0.6</td>\n",
       "      <td>0.7</td>\n",
       "      <td>1.0</td>\n",
       "      <td>10</td>\n",
       "      <td>970358400</td>\n",
       "      <td>Custom Brewcrafters Pizza Plant Inferno Pod Ale</td>\n",
       "    </tr>\n",
       "    <tr>\n",
       "      <th>1655</th>\n",
       "      <td>PhillyBeer2112</td>\n",
       "      <td>13145</td>\n",
       "      <td>0.6</td>\n",
       "      <td>0.9</td>\n",
       "      <td>0.8</td>\n",
       "      <td>0.9</td>\n",
       "      <td>1.0</td>\n",
       "      <td>10</td>\n",
       "      <td>1275436800</td>\n",
       "      <td>Russian River Temptation</td>\n",
       "    </tr>\n",
       "    <tr>\n",
       "      <th>1399</th>\n",
       "      <td>PhillyBeer2112</td>\n",
       "      <td>5923</td>\n",
       "      <td>0.8</td>\n",
       "      <td>0.9</td>\n",
       "      <td>1.0</td>\n",
       "      <td>0.9</td>\n",
       "      <td>1.0</td>\n",
       "      <td>10</td>\n",
       "      <td>991699200</td>\n",
       "      <td>Dogfish Head World Wide Stout 2001/2003-Presen...</td>\n",
       "    </tr>\n",
       "  </tbody>\n",
       "</table>\n",
       "</div>"
      ],
      "text/plain": [
       "     review/profileName beer/beerId  review/appearance_value  \\\n",
       "755      PhillyBeer2112       98973                      0.8   \n",
       "562      PhillyBeer2112       10908                      1.0   \n",
       "53       PhillyBeer2112        5141                      0.8   \n",
       "1655     PhillyBeer2112       13145                      0.6   \n",
       "1399     PhillyBeer2112        5923                      0.8   \n",
       "\n",
       "      review/aroma_value  review/palate_value  review/taste_value  \\\n",
       "755                  0.8                  1.0                 1.0   \n",
       "562                  1.0                  1.0                 1.0   \n",
       "53                   0.9                  0.6                 0.7   \n",
       "1655                 0.9                  0.8                 0.9   \n",
       "1399                 0.9                  1.0                 0.9   \n",
       "\n",
       "      review/overall_value  review/overall_value_int  review/time  \\\n",
       "755                    1.0                        10   1275436800   \n",
       "562                    1.0                        10   1053475200   \n",
       "53                     1.0                        10    970358400   \n",
       "1655                   1.0                        10   1275436800   \n",
       "1399                   1.0                        10    991699200   \n",
       "\n",
       "                                              beer/name  \n",
       "755             Founders CBS (Canadian Breakfast Stout)  \n",
       "562                              Oud Beersel Oude Kriek  \n",
       "53      Custom Brewcrafters Pizza Plant Inferno Pod Ale  \n",
       "1655                           Russian River Temptation  \n",
       "1399  Dogfish Head World Wide Stout 2001/2003-Presen...  "
      ]
     },
     "execution_count": 23,
     "metadata": {},
     "output_type": "execute_result"
    }
   ],
   "source": [
    "user_ratings = ratings[ratings['review/profileName']==user_id].merge(beers[['beer/beerId', 'beer/name']])\n",
    "user_ratings = user_ratings.sort_values('review/overall_value_int', ascending=False)\n",
    "top_5 = user_ratings.head()\n",
    "top_5"
   ]
  },
  {
   "cell_type": "markdown",
   "metadata": {},
   "source": [
    "Las cervezas con el menor rating son:"
   ]
  },
  {
   "cell_type": "code",
   "execution_count": 24,
   "metadata": {},
   "outputs": [
    {
     "data": {
      "text/html": [
       "<div>\n",
       "<style scoped>\n",
       "    .dataframe tbody tr th:only-of-type {\n",
       "        vertical-align: middle;\n",
       "    }\n",
       "\n",
       "    .dataframe tbody tr th {\n",
       "        vertical-align: top;\n",
       "    }\n",
       "\n",
       "    .dataframe thead th {\n",
       "        text-align: right;\n",
       "    }\n",
       "</style>\n",
       "<table border=\"1\" class=\"dataframe\">\n",
       "  <thead>\n",
       "    <tr style=\"text-align: right;\">\n",
       "      <th></th>\n",
       "      <th>review/profileName</th>\n",
       "      <th>beer/beerId</th>\n",
       "      <th>review/appearance_value</th>\n",
       "      <th>review/aroma_value</th>\n",
       "      <th>review/palate_value</th>\n",
       "      <th>review/taste_value</th>\n",
       "      <th>review/overall_value</th>\n",
       "      <th>review/overall_value_int</th>\n",
       "      <th>review/time</th>\n",
       "      <th>beer/name</th>\n",
       "    </tr>\n",
       "  </thead>\n",
       "  <tbody>\n",
       "    <tr>\n",
       "      <th>1066</th>\n",
       "      <td>PhillyBeer2112</td>\n",
       "      <td>407</td>\n",
       "      <td>0.2</td>\n",
       "      <td>0.2</td>\n",
       "      <td>0.2</td>\n",
       "      <td>0.1</td>\n",
       "      <td>0.05</td>\n",
       "      <td>0</td>\n",
       "      <td>959644800</td>\n",
       "      <td>Miller High Life</td>\n",
       "    </tr>\n",
       "    <tr>\n",
       "      <th>1253</th>\n",
       "      <td>PhillyBeer2112</td>\n",
       "      <td>52080</td>\n",
       "      <td>0.4</td>\n",
       "      <td>0.5</td>\n",
       "      <td>0.2</td>\n",
       "      <td>0.1</td>\n",
       "      <td>0.05</td>\n",
       "      <td>0</td>\n",
       "      <td>1140220800</td>\n",
       "      <td>Michelob Celebrate Vanilla Oak</td>\n",
       "    </tr>\n",
       "    <tr>\n",
       "      <th>1059</th>\n",
       "      <td>PhillyBeer2112</td>\n",
       "      <td>7342</td>\n",
       "      <td>0.4</td>\n",
       "      <td>0.1</td>\n",
       "      <td>0.2</td>\n",
       "      <td>0.1</td>\n",
       "      <td>0.05</td>\n",
       "      <td>0</td>\n",
       "      <td>1055808000</td>\n",
       "      <td>Olde English HG800 / Olde English 800 7.9%</td>\n",
       "    </tr>\n",
       "    <tr>\n",
       "      <th>1256</th>\n",
       "      <td>PhillyBeer2112</td>\n",
       "      <td>107964</td>\n",
       "      <td>0.2</td>\n",
       "      <td>0.1</td>\n",
       "      <td>0.2</td>\n",
       "      <td>0.1</td>\n",
       "      <td>0.05</td>\n",
       "      <td>0</td>\n",
       "      <td>1281225600</td>\n",
       "      <td>Budweiser Select 55</td>\n",
       "    </tr>\n",
       "    <tr>\n",
       "      <th>596</th>\n",
       "      <td>PhillyBeer2112</td>\n",
       "      <td>22989</td>\n",
       "      <td>0.6</td>\n",
       "      <td>0.2</td>\n",
       "      <td>0.4</td>\n",
       "      <td>0.1</td>\n",
       "      <td>0.05</td>\n",
       "      <td>0</td>\n",
       "      <td>1180310400</td>\n",
       "      <td>Dutch Windmill</td>\n",
       "    </tr>\n",
       "  </tbody>\n",
       "</table>\n",
       "</div>"
      ],
      "text/plain": [
       "     review/profileName beer/beerId  review/appearance_value  \\\n",
       "1066     PhillyBeer2112         407                      0.2   \n",
       "1253     PhillyBeer2112       52080                      0.4   \n",
       "1059     PhillyBeer2112        7342                      0.4   \n",
       "1256     PhillyBeer2112      107964                      0.2   \n",
       "596      PhillyBeer2112       22989                      0.6   \n",
       "\n",
       "      review/aroma_value  review/palate_value  review/taste_value  \\\n",
       "1066                 0.2                  0.2                 0.1   \n",
       "1253                 0.5                  0.2                 0.1   \n",
       "1059                 0.1                  0.2                 0.1   \n",
       "1256                 0.1                  0.2                 0.1   \n",
       "596                  0.2                  0.4                 0.1   \n",
       "\n",
       "      review/overall_value  review/overall_value_int  review/time  \\\n",
       "1066                  0.05                         0    959644800   \n",
       "1253                  0.05                         0   1140220800   \n",
       "1059                  0.05                         0   1055808000   \n",
       "1256                  0.05                         0   1281225600   \n",
       "596                   0.05                         0   1180310400   \n",
       "\n",
       "                                       beer/name  \n",
       "1066                            Miller High Life  \n",
       "1253              Michelob Celebrate Vanilla Oak  \n",
       "1059  Olde English HG800 / Olde English 800 7.9%  \n",
       "1256                         Budweiser Select 55  \n",
       "596                               Dutch Windmill  "
      ]
     },
     "execution_count": 24,
     "metadata": {},
     "output_type": "execute_result"
    }
   ],
   "source": [
    "bottom_5 = user_ratings[user_ratings['review/overall_value_int']<5].tail()\n",
    "bottom_5"
   ]
  },
  {
   "cell_type": "markdown",
   "metadata": {},
   "source": [
    "A partir de las preferencias anteriores, podemos inferir algo acerca del usuario PhillyBeer2112. Veamos que recomendaciones se pueden generar para este usuario en particular.\n",
    "\n",
    "Utilizaremos `recommend()` que utiliza el indice del usuario y lo transpone con la matriz user-item."
   ]
  },
  {
   "cell_type": "code",
   "execution_count": 25,
   "metadata": {},
   "outputs": [
    {
     "data": {
      "text/plain": [
       "(array([67584, 57402, 47220, 81542, 69197, 48337, 67751, 53229, 90070,\n",
       "        47309], dtype=int32),\n",
       " array([1.3653944, 1.3114238, 1.2922056, 1.2632114, 1.2563404, 1.2099961,\n",
       "        1.1956567, 1.185583 , 1.1770552, 1.1764188], dtype=float32))"
      ]
     },
     "execution_count": 25,
     "metadata": {},
     "output_type": "execute_result"
    }
   ],
   "source": [
    "X_t = X.T.tocsr()\n",
    "user_idx = user_mapper[user_id]\n",
    "recommendations = model.recommend(user_idx, X_t[user_idx])\n",
    "recommendations"
   ]
  },
  {
   "cell_type": "markdown",
   "metadata": {},
   "source": [
    "No podemos interpretar los resultados obtenidos pues estan listados los indices. Hagamos una conversion del indice al nombre de las cervezas recomendadas."
   ]
  },
  {
   "cell_type": "code",
   "execution_count": 26,
   "metadata": {},
   "outputs": [
    {
     "name": "stdout",
     "output_type": "stream",
     "text": [
      "Left Hand Oktoberfest\n",
      "Fort Collins Z Lager\n",
      "Sweetwater Blue\n",
      "Sterkens White Ale\n",
      "Paulaner Original Mnchner Mrzen\n",
      "Left Hand Deep Cover Brown Ale\n",
      "Tetleys English Ale\n",
      "Strohs\n",
      "Sweetwater Festive Ale\n"
     ]
    }
   ],
   "source": [
    "for t, r in zip(recommendations[0], recommendations[1]):\n",
    "    try:\n",
    "        recommended_title = get_beer_title(t)\n",
    "        print(recommended_title)\n",
    "    except:\n",
    "        continue"
   ]
  },
  {
   "cell_type": "code",
   "execution_count": 34,
   "metadata": {},
   "outputs": [
    {
     "name": "stdout",
     "output_type": "stream",
     "text": [
      "        beer/beerId             beer/name beer/style  beer/brewerId beer/ABV\n",
      "2588105       30639  Fort Collins Z Lager     Smoked           3891      4.5\n"
     ]
    }
   ],
   "source": [
    "# Encontrar filas que contienen 'Bells Porter' usando str.contains()\n",
    "result = beers[beers['beer/name'].str.contains('Fort Collins Z Lager', na=False)]\n",
    "\n",
    "# Mostrar los resultados\n",
    "print(result)\n"
   ]
  },
  {
   "cell_type": "code",
   "execution_count": 35,
   "metadata": {},
   "outputs": [
    {
     "name": "stdout",
     "output_type": "stream",
     "text": [
      "        beer/beerId            beer/name beer/style  beer/brewerId beer/ABV\n",
      "2021813        2541  Tetleys English Ale     Bitter            407        5\n"
     ]
    }
   ],
   "source": [
    "result = beers[beers['beer/name'].str.contains('Tetleys English Ale', na=False)]\n",
    "print(result)"
   ]
  },
  {
   "cell_type": "markdown",
   "metadata": {},
   "source": [
    "#### Que podemos decir acerca de las recomendaciones para este usuario?\n",
    "Al usuario le gusta consumir cervezas con un grado medio de alcohol, además que le gusta probar de distintos estilos por el cuerpo de la cerveza.\n"
   ]
  },
  {
   "cell_type": "markdown",
   "metadata": {},
   "source": [
    "## Intentemos con otro usuario y analicemos los resultados obtenidos."
   ]
  },
  {
   "cell_type": "code",
   "execution_count": 36,
   "metadata": {},
   "outputs": [],
   "source": [
    "user_id = 'hopdog'"
   ]
  },
  {
   "cell_type": "code",
   "execution_count": 37,
   "metadata": {},
   "outputs": [
    {
     "name": "stdout",
     "output_type": "stream",
     "text": [
      "El numero de cervezas rankeadas por el usuario hopdog es de: 6426\n"
     ]
    }
   ],
   "source": [
    "user_ratings = ratings[ratings['review/profileName']==user_id].merge(beers[['beer/beerId', 'beer/name']])\n",
    "user_ratings = user_ratings.sort_values('review/overall_value_int', ascending=False)\n",
    "print(f\"El numero de cervezas rankeadas por el usuario {user_id} es de: {user_ratings['beer/beerId'].nunique()}\")"
   ]
  },
  {
   "cell_type": "markdown",
   "metadata": {},
   "source": [
    "En este caso vemos que el usuario hopdog probó 6426 cervezas y el rating de su favoritas son:"
   ]
  },
  {
   "cell_type": "code",
   "execution_count": 38,
   "metadata": {},
   "outputs": [
    {
     "data": {
      "text/html": [
       "<div>\n",
       "<style scoped>\n",
       "    .dataframe tbody tr th:only-of-type {\n",
       "        vertical-align: middle;\n",
       "    }\n",
       "\n",
       "    .dataframe tbody tr th {\n",
       "        vertical-align: top;\n",
       "    }\n",
       "\n",
       "    .dataframe thead th {\n",
       "        text-align: right;\n",
       "    }\n",
       "</style>\n",
       "<table border=\"1\" class=\"dataframe\">\n",
       "  <thead>\n",
       "    <tr style=\"text-align: right;\">\n",
       "      <th></th>\n",
       "      <th>review/profileName</th>\n",
       "      <th>beer/beerId</th>\n",
       "      <th>review/appearance_value</th>\n",
       "      <th>review/aroma_value</th>\n",
       "      <th>review/palate_value</th>\n",
       "      <th>review/taste_value</th>\n",
       "      <th>review/overall_value</th>\n",
       "      <th>review/overall_value_int</th>\n",
       "      <th>review/time</th>\n",
       "      <th>beer/name</th>\n",
       "    </tr>\n",
       "  </thead>\n",
       "  <tbody>\n",
       "    <tr>\n",
       "      <th>3001</th>\n",
       "      <td>hopdog</td>\n",
       "      <td>46868</td>\n",
       "      <td>0.8</td>\n",
       "      <td>1.0</td>\n",
       "      <td>1.0</td>\n",
       "      <td>1.0</td>\n",
       "      <td>1.00</td>\n",
       "      <td>10</td>\n",
       "      <td>1214524800</td>\n",
       "      <td>3 Fonteinen J &amp; J Oude Geuze Blauw</td>\n",
       "    </tr>\n",
       "    <tr>\n",
       "      <th>2997</th>\n",
       "      <td>hopdog</td>\n",
       "      <td>21457</td>\n",
       "      <td>0.8</td>\n",
       "      <td>1.0</td>\n",
       "      <td>1.0</td>\n",
       "      <td>1.0</td>\n",
       "      <td>1.00</td>\n",
       "      <td>10</td>\n",
       "      <td>1183507200</td>\n",
       "      <td>3 Fonteinen Millennium Geuze</td>\n",
       "    </tr>\n",
       "    <tr>\n",
       "      <th>553</th>\n",
       "      <td>hopdog</td>\n",
       "      <td>81331</td>\n",
       "      <td>0.8</td>\n",
       "      <td>0.9</td>\n",
       "      <td>0.8</td>\n",
       "      <td>0.8</td>\n",
       "      <td>0.90</td>\n",
       "      <td>9</td>\n",
       "      <td>1228867200</td>\n",
       "      <td>Stone Brandy Barrel Double Bastard</td>\n",
       "    </tr>\n",
       "    <tr>\n",
       "      <th>3003</th>\n",
       "      <td>hopdog</td>\n",
       "      <td>37220</td>\n",
       "      <td>0.8</td>\n",
       "      <td>1.0</td>\n",
       "      <td>0.8</td>\n",
       "      <td>0.9</td>\n",
       "      <td>0.95</td>\n",
       "      <td>9</td>\n",
       "      <td>1214524800</td>\n",
       "      <td>3 Fonteinen J &amp; J Oude Geuze Roze</td>\n",
       "    </tr>\n",
       "    <tr>\n",
       "      <th>4663</th>\n",
       "      <td>hopdog</td>\n",
       "      <td>48723</td>\n",
       "      <td>0.8</td>\n",
       "      <td>0.9</td>\n",
       "      <td>0.8</td>\n",
       "      <td>0.9</td>\n",
       "      <td>0.90</td>\n",
       "      <td>9</td>\n",
       "      <td>1137628800</td>\n",
       "      <td>Midnight Sun Monks Mistress (Cabernet)</td>\n",
       "    </tr>\n",
       "  </tbody>\n",
       "</table>\n",
       "</div>"
      ],
      "text/plain": [
       "     review/profileName beer/beerId  review/appearance_value  \\\n",
       "3001             hopdog       46868                      0.8   \n",
       "2997             hopdog       21457                      0.8   \n",
       "553              hopdog       81331                      0.8   \n",
       "3003             hopdog       37220                      0.8   \n",
       "4663             hopdog       48723                      0.8   \n",
       "\n",
       "      review/aroma_value  review/palate_value  review/taste_value  \\\n",
       "3001                 1.0                  1.0                 1.0   \n",
       "2997                 1.0                  1.0                 1.0   \n",
       "553                  0.9                  0.8                 0.8   \n",
       "3003                 1.0                  0.8                 0.9   \n",
       "4663                 0.9                  0.8                 0.9   \n",
       "\n",
       "      review/overall_value  review/overall_value_int  review/time  \\\n",
       "3001                  1.00                        10   1214524800   \n",
       "2997                  1.00                        10   1183507200   \n",
       "553                   0.90                         9   1228867200   \n",
       "3003                  0.95                         9   1214524800   \n",
       "4663                  0.90                         9   1137628800   \n",
       "\n",
       "                                   beer/name  \n",
       "3001      3 Fonteinen J & J Oude Geuze Blauw  \n",
       "2997            3 Fonteinen Millennium Geuze  \n",
       "553       Stone Brandy Barrel Double Bastard  \n",
       "3003       3 Fonteinen J & J Oude Geuze Roze  \n",
       "4663  Midnight Sun Monks Mistress (Cabernet)  "
      ]
     },
     "execution_count": 38,
     "metadata": {},
     "output_type": "execute_result"
    }
   ],
   "source": [
    "user_ratings = ratings[ratings['review/profileName']==user_id].merge(beers[['beer/beerId', 'beer/name']])\n",
    "user_ratings = user_ratings.sort_values('review/overall_value_int', ascending=False)\n",
    "top_5 = user_ratings.head()\n",
    "top_5"
   ]
  },
  {
   "cell_type": "markdown",
   "metadata": {},
   "source": [
    "Las cervezas con el menor rating son:"
   ]
  },
  {
   "cell_type": "code",
   "execution_count": 39,
   "metadata": {},
   "outputs": [
    {
     "data": {
      "text/html": [
       "<div>\n",
       "<style scoped>\n",
       "    .dataframe tbody tr th:only-of-type {\n",
       "        vertical-align: middle;\n",
       "    }\n",
       "\n",
       "    .dataframe tbody tr th {\n",
       "        vertical-align: top;\n",
       "    }\n",
       "\n",
       "    .dataframe thead th {\n",
       "        text-align: right;\n",
       "    }\n",
       "</style>\n",
       "<table border=\"1\" class=\"dataframe\">\n",
       "  <thead>\n",
       "    <tr style=\"text-align: right;\">\n",
       "      <th></th>\n",
       "      <th>review/profileName</th>\n",
       "      <th>beer/beerId</th>\n",
       "      <th>review/appearance_value</th>\n",
       "      <th>review/aroma_value</th>\n",
       "      <th>review/palate_value</th>\n",
       "      <th>review/taste_value</th>\n",
       "      <th>review/overall_value</th>\n",
       "      <th>review/overall_value_int</th>\n",
       "      <th>review/time</th>\n",
       "      <th>beer/name</th>\n",
       "    </tr>\n",
       "  </thead>\n",
       "  <tbody>\n",
       "    <tr>\n",
       "      <th>1428</th>\n",
       "      <td>hopdog</td>\n",
       "      <td>89777</td>\n",
       "      <td>0.6</td>\n",
       "      <td>0.2</td>\n",
       "      <td>0.4</td>\n",
       "      <td>0.4</td>\n",
       "      <td>0.15</td>\n",
       "      <td>1</td>\n",
       "      <td>1251417600</td>\n",
       "      <td>William Penn Colonial Style Lager</td>\n",
       "    </tr>\n",
       "    <tr>\n",
       "      <th>2138</th>\n",
       "      <td>hopdog</td>\n",
       "      <td>79623</td>\n",
       "      <td>0.6</td>\n",
       "      <td>0.2</td>\n",
       "      <td>0.6</td>\n",
       "      <td>0.2</td>\n",
       "      <td>0.10</td>\n",
       "      <td>1</td>\n",
       "      <td>1251417600</td>\n",
       "      <td>Laughing Dog Cold Nose Winter Ale</td>\n",
       "    </tr>\n",
       "    <tr>\n",
       "      <th>113</th>\n",
       "      <td>hopdog</td>\n",
       "      <td>33356</td>\n",
       "      <td>0.2</td>\n",
       "      <td>0.3</td>\n",
       "      <td>0.4</td>\n",
       "      <td>0.3</td>\n",
       "      <td>0.15</td>\n",
       "      <td>1</td>\n",
       "      <td>1227052800</td>\n",
       "      <td>Gallo</td>\n",
       "    </tr>\n",
       "    <tr>\n",
       "      <th>4397</th>\n",
       "      <td>hopdog</td>\n",
       "      <td>742</td>\n",
       "      <td>0.4</td>\n",
       "      <td>0.1</td>\n",
       "      <td>0.4</td>\n",
       "      <td>0.1</td>\n",
       "      <td>0.05</td>\n",
       "      <td>0</td>\n",
       "      <td>1089849600</td>\n",
       "      <td>Corona Extra</td>\n",
       "    </tr>\n",
       "    <tr>\n",
       "      <th>4149</th>\n",
       "      <td>hopdog</td>\n",
       "      <td>75444</td>\n",
       "      <td>0.2</td>\n",
       "      <td>0.1</td>\n",
       "      <td>0.2</td>\n",
       "      <td>0.1</td>\n",
       "      <td>0.05</td>\n",
       "      <td>0</td>\n",
       "      <td>1202428800</td>\n",
       "      <td>Bud Light Chelada</td>\n",
       "    </tr>\n",
       "  </tbody>\n",
       "</table>\n",
       "</div>"
      ],
      "text/plain": [
       "     review/profileName beer/beerId  review/appearance_value  \\\n",
       "1428             hopdog       89777                      0.6   \n",
       "2138             hopdog       79623                      0.6   \n",
       "113              hopdog       33356                      0.2   \n",
       "4397             hopdog         742                      0.4   \n",
       "4149             hopdog       75444                      0.2   \n",
       "\n",
       "      review/aroma_value  review/palate_value  review/taste_value  \\\n",
       "1428                 0.2                  0.4                 0.4   \n",
       "2138                 0.2                  0.6                 0.2   \n",
       "113                  0.3                  0.4                 0.3   \n",
       "4397                 0.1                  0.4                 0.1   \n",
       "4149                 0.1                  0.2                 0.1   \n",
       "\n",
       "      review/overall_value  review/overall_value_int  review/time  \\\n",
       "1428                  0.15                         1   1251417600   \n",
       "2138                  0.10                         1   1251417600   \n",
       "113                   0.15                         1   1227052800   \n",
       "4397                  0.05                         0   1089849600   \n",
       "4149                  0.05                         0   1202428800   \n",
       "\n",
       "                              beer/name  \n",
       "1428  William Penn Colonial Style Lager  \n",
       "2138  Laughing Dog Cold Nose Winter Ale  \n",
       "113                               Gallo  \n",
       "4397                       Corona Extra  \n",
       "4149                  Bud Light Chelada  "
      ]
     },
     "execution_count": 39,
     "metadata": {},
     "output_type": "execute_result"
    }
   ],
   "source": [
    "bottom_5 = user_ratings[user_ratings['review/overall_value_int']<5].tail()\n",
    "bottom_5"
   ]
  },
  {
   "cell_type": "markdown",
   "metadata": {},
   "source": [
    "A partir de las preferencias anteriores, podemos inferir algo acerca del usuario hopdog. Veamos que recomendaciones se pueden generar para este usuario en particular.\n",
    "\n",
    "Utilizaremos `recommend()` que utiliza el indice del usuario y lo transpone con la matriz user-item."
   ]
  },
  {
   "cell_type": "code",
   "execution_count": 40,
   "metadata": {},
   "outputs": [
    {
     "data": {
      "text/plain": [
       "(array([107987,  59973,  94653,  46386,  67669,  90797,  55638,  60049,\n",
       "         86533,  58966], dtype=int32),\n",
       " array([1.3505028, 1.2971691, 1.2819601, 1.2735821, 1.270067 , 1.2688063,\n",
       "        1.2611705, 1.2610593, 1.2468184, 1.2408085], dtype=float32))"
      ]
     },
     "execution_count": 40,
     "metadata": {},
     "output_type": "execute_result"
    }
   ],
   "source": [
    "X_t2 = X.T.tocsr()\n",
    "user_idx = user_mapper[user_id]\n",
    "recommendations = model.recommend(user_idx, X_t2[user_idx])\n",
    "recommendations"
   ]
  },
  {
   "cell_type": "markdown",
   "metadata": {},
   "source": [
    "No podemos interpretar los resultados obtenidos pues estan listados los indices. Hagamos una conversion del indice al nombre de las cervezas recomendadas."
   ]
  },
  {
   "cell_type": "code",
   "execution_count": 41,
   "metadata": {},
   "outputs": [
    {
     "name": "stdout",
     "output_type": "stream",
     "text": [
      "Bert Grants Fresh Hop Ale\n",
      "Iron Hill Hopilicious IPA\n",
      "Beer Valley Highway To Ale Barley Wine\n",
      "Great Divide Hibernation Ale\n",
      "Left Hand Snow Bound Winter Ale\n",
      "Stone 07.07.07 Vertical Epic Ale\n",
      "Unibroue phmre Cassis\n",
      "Ramstein Blonde\n",
      "Left Hand Sawtooth Ale\n",
      "Flying Dog Heller Hound Bock\n"
     ]
    }
   ],
   "source": [
    "for t, r in zip(recommendations[0], recommendations[1]):\n",
    "    try:\n",
    "        recommended_title = get_beer_title(t)\n",
    "        print(recommended_title)\n",
    "    except:\n",
    "        continue"
   ]
  },
  {
   "cell_type": "code",
   "execution_count": 42,
   "metadata": {},
   "outputs": [
    {
     "name": "stdout",
     "output_type": "stream",
     "text": [
      "       beer/beerId                                          beer/name  \\\n",
      "234896       83323  Stone 07.07.07 Vertical Epic Ale (Red Wine Bar...   \n",
      "250774       74533                   Stone 07.07.07 Vertical Epic Ale   \n",
      "\n",
      "                beer/style  beer/brewerId beer/ABV  \n",
      "234896  Belgian Strong Ale             76      8.4  \n",
      "250774  Belgian Strong Ale             76      8.4  \n"
     ]
    }
   ],
   "source": [
    "result = beers[beers['beer/name'].str.contains('Stone 07.07.07 Vertical Epic Ale', na=False)]\n",
    "print(result)"
   ]
  },
  {
   "cell_type": "code",
   "execution_count": 43,
   "metadata": {},
   "outputs": [
    {
     "name": "stdout",
     "output_type": "stream",
     "text": [
      "        beer/beerId                     beer/name   beer/style  beer/brewerId  \\\n",
      "1101458       32613  Flying Dog Heller Hound Bock  Heller Bock            109   \n",
      "\n",
      "        beer/ABV  \n",
      "1101458      6.2  \n"
     ]
    }
   ],
   "source": [
    "result = beers[beers['beer/name'].str.contains('Flying Dog Heller Hound Bock', na=False)]\n",
    "print(result)"
   ]
  },
  {
   "cell_type": "markdown",
   "metadata": {},
   "source": [
    "#### Que podemos decir acerca de las recomendaciones para este usuario?\n",
    "Al usuario hopdog le gusta consumir cervezas con un grado más alto de alcohol que PhillyBeer2112, además que tiene gusto por las cervezas de la familia 3 Fonteinen J & J Oude y de un estilo más Belgian Strong Ale.\n"
   ]
  }
 ],
 "metadata": {
  "kernelspec": {
   "display_name": "Python 3 (ipykernel)",
   "language": "python",
   "name": "python3"
  },
  "language_info": {
   "codemirror_mode": {
    "name": "ipython",
    "version": 3
   },
   "file_extension": ".py",
   "mimetype": "text/x-python",
   "name": "python",
   "nbconvert_exporter": "python",
   "pygments_lexer": "ipython3",
   "version": "3.10.14"
  }
 },
 "nbformat": 4,
 "nbformat_minor": 4
}
