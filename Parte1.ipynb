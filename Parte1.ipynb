{
 "cells": [
  {
   "cell_type": "markdown",
   "metadata": {},
   "source": [
    "# Parte 1: Construyendo un Sistema de recomendacion de Item-Item\n",
    "\n",
    "Si has visto una pelicula recientemente en Netflix, recordaras la seccion que te muestra peliculas bajo el titulo \"Por que viste la pelicula \"x\" te puede interesar:\" a partir de la ultima pelicula/contenido que hayas visto en la plataforma. \n",
    "\n",
    "El sistema que estaremos revisando a continuacion opera bajo el mismo principio."
   ]
  },
  {
   "cell_type": "markdown",
   "metadata": {},
   "source": [
    "## Paso 1: Importar dependencias\n",
    "\n",
    "Utilizaremos pandas para nuestro Data Frame asi como matplotlib y seaborn para visualizar los datos."
   ]
  },
  {
   "cell_type": "code",
   "execution_count": 3,
   "metadata": {},
   "outputs": [],
   "source": [
    "import numpy as np\n",
    "import pandas as pd\n",
    "import sklearn\n",
    "import matplotlib.pyplot as plt\n",
    "import seaborn as sns\n",
    "import scipy\n",
    "import json\n",
    "import html\n",
    "import re"
   ]
  },
  {
   "cell_type": "markdown",
   "metadata": {},
   "source": [
    "## Paso 2: Cargando los datos\n",
    "\n",
    "Estaremos trabajando con una version reducida del dataset [MovieLens](https://grouplens.org/datasets/movielens/). \n"
   ]
  },
  {
   "cell_type": "markdown",
   "metadata": {},
   "source": [
    "Convertimos de json a csv"
   ]
  },
  {
   "cell_type": "code",
   "execution_count": 16,
   "metadata": {},
   "outputs": [
    {
     "data": {
      "text/plain": [
       "'\\n\\nprint(fichero[:10])\\n'"
      ]
     },
     "execution_count": 16,
     "metadata": {},
     "output_type": "execute_result"
    }
   ],
   "source": [
    "data = open('equipo27/ratebeer.json')\n",
    "\n",
    "fichero = []\n",
    "\n",
    "for line in data:\n",
    "    #print(line.replace(\"}\", \"},\").replace(\"'\", '\"'))\n",
    "    fichero.append(line.replace(\"'\", '\"').replace(\"\\n\", \"\").replace(\"'{\", \"{\").replace(\"'}\", \"}\"))\n",
    "\n",
    "json_data = json.dumps(fichero, indent=4)\n",
    "\n",
    "# Save to a JSON file\n",
    "with open('equipo27/data_ratebeer.json', 'w') as json_file:\n",
    "    json_file.write(json_data)\n",
    "\n"
   ]
  },
  {
   "cell_type": "code",
   "execution_count": 48,
   "metadata": {},
   "outputs": [],
   "source": [
    "data = open('equipo27/ratebeer.json')\n",
    "\n",
    "fichero = []\n",
    "\n",
    "for line in data:\n",
    "    #print(line.replace(\"}\", \"},\").replace(\"'\", '\"'))\n",
    "\n",
    "    if line == \"\":\n",
    "        continue\n",
    "\n",
    "    fichero.append('{\"' + line.replace('\"', \"\").replace(\"{\", \"\").replace(\"}\", \"\").replace(\"'Ni'\", \"Ni\").replace(\"'Peng'\", \"Peng\").replace(\"'Neee-wom'\", \"Neee-wom\").replace(\"\\n\", \"\").replace(\"\\t\", \" \").replace(\"': '\", '\": \"').replace(\"', '\", '\", \"').replace('&quot;', '').replace(\"\\'\", \"\").replace(\"\\\\\", \"\").replace('/text: ', '/text\": \"') + '\"}')\n",
    "\n",
    "    #if \"'}\" in line[-8:]:\n",
    "    #    fichero.append(line.replace('\"', \"\").replace(\"\\n\", \"\").replace(\"\\t\", \" \").replace(\"': '\", '\": \"').replace(\"', '\", '\", \"').replace(\"'}\", '\"}').replace(\"{'\", '{\"').replace('}\"', '}').replace('\"{', '{').replace('&quot;', '').replace(\"}},\", '\"},').replace(\"\\'\", \"\").replace(\"\\\\\", \"\").replace('\": {', '\": \"{').replace('/text: ', '/text\": \"').replace(\".}\", '\"}'))\n",
    "    #else:\n",
    "    #    fichero.append(line.replace('\"', \"\").replace(\"\\n\", \"\").replace(\"\\t\", \" \").replace(\"': '\", '\": \"').replace(\"', '\", '\", \"').replace(\"\\'}\", '\"}').replace(\"{'\", '{\"').replace('}\"', '}').replace('\"{', '{').replace('&quot;', '').replace(\"}},\", '\"},').replace(\"\\'\", \"\").replace(\"\\\\\", \"\").replace('\": {', '\": \"{').replace('/text: ', '/text\": \"').replace(\".}\", '\"}'))\n",
    "\n",
    "json_data = json.dumps(fichero, indent=4)\n",
    "\n",
    "# Save to a JSON file\n",
    "with open('equipo27/clean_ratebeer.json', 'w') as json_file:\n",
    "    json_file.write(json_data)\n",
    "\n"
   ]
  },
  {
   "cell_type": "code",
   "execution_count": 5,
   "metadata": {},
   "outputs": [
    {
     "name": "stdout",
     "output_type": "stream",
     "text": [
      "Error parsing JSON: Expecting ':' delimiter: line 1 column 4 (char 3)\n",
      "Offending string: {\"\"}\n",
      "                                  beer/name beer/beerId beer/brewerId  \\\n",
      "0                  John Harvards Simcoe IPA       63836          8481   \n",
      "1                  John Harvards Simcoe IPA       63836          8481   \n",
      "2             John Harvards Cristal Pilsner       71716          8481   \n",
      "3        John Harvards Fancy Lawnmower Beer       64125          8481   \n",
      "4        John Harvards Fancy Lawnmower Beer       64125          8481   \n",
      "5  John Harvards Vanilla Black Velvet Stout       31544          8481   \n",
      "6          John Harvards American Brown Ale       71714          8481   \n",
      "7                   John Harvards Grand Cru       71719          8481   \n",
      "8                   John Harvards Grand Cru       71719          8481   \n",
      "9                   John Harvards Grand Cru       71719          8481   \n",
      "\n",
      "  beer/ABV            beer/style review/appearance review/aroma review/palate  \\\n",
      "0      5.4  India Pale Ale (IPA)               4/5         6/10           3/5   \n",
      "1      5.4  India Pale Ale (IPA)               4/5         6/10           4/5   \n",
      "2        5     Bohemian Pilsener               4/5         5/10           3/5   \n",
      "3      5.4                 Klsch               2/5         4/10           2/5   \n",
      "4      5.4                 Klsch               2/5         4/10           2/5   \n",
      "5        -           Sweet Stout               5/5         8/10           4/5   \n",
      "6        -             Brown Ale               4/5         5/10           3/5   \n",
      "7        7           Belgian Ale               2/5         6/10           3/5   \n",
      "8        7           Belgian Ale               4/5         8/10           3/5   \n",
      "9        7           Belgian Ale               3/5         8/10           4/5   \n",
      "\n",
      "  review/taste review/overall review/time review/profileName  \\\n",
      "0         6/10          13/20  1157587200             hopdog   \n",
      "1         7/10          13/20  1157241600       TomDecapolis   \n",
      "2         6/10          14/20   958694400     PhillyBeer2112   \n",
      "3         4/10           8/20  1157587200       TomDecapolis   \n",
      "4         4/10           8/20  1157587200             hopdog   \n",
      "5         7/10          16/20  1077753600           egajdzis   \n",
      "6         6/10          12/20  1176076800             hopdog   \n",
      "7         7/10          14/20  1107302400            JFGrind   \n",
      "8         7/10          16/20  1102896000           egajdzis   \n",
      "9         8/10          17/20   996105600     PhillyBeer2112   \n",
      "\n",
      "                                         review/text  \n",
      "0  On tap at the Springfield, PA location. Poured...  \n",
      "1  On tap at the John Harvards in Springfield PA....  \n",
      "2  UPDATED: FEB 19, 2003 Springfield, PA. Ive nev...  \n",
      "3  On tap the Springfield PA location billed as t...  \n",
      "4  On tap at the Springfield, PA location. Poured...  \n",
      "5  Springfield, PA location... Poured an opaque b...  \n",
      "6  On tap at the Springfield, PA location. Listed...  \n",
      "7  Sampled @ the Springfield, PA location.   Cand...  \n",
      "8  Springfield... Poured a hazy copper color with...  \n",
      "9  UPDATED: FEB 19, 2003 Springfield, PA. Darkish...  \n"
     ]
    }
   ],
   "source": [
    "file = open('equipo27/clean_ratebeer.json')\n",
    "\n",
    "file_contents = file.read()\n",
    "\n",
    "json_data = json.loads(file_contents)\n",
    "#print(json_data)\n",
    "\n",
    "cleaned_json_strings = []\n",
    "for json_str in json_data:\n",
    "    # Replace single backslashes before double quotes with proper escape\n",
    "    json_str = re.sub(r'\\\\(?=\")', r'\\\\\\\\', json_str)\n",
    "    # Unescape HTML entities\n",
    "    json_str = html.unescape(json_str)\n",
    "    cleaned_json_strings.append(json_str)\n",
    "\n",
    "# Parse JSON strings and create a list of dictionaries\n",
    "data = []\n",
    "for json_str in cleaned_json_strings:\n",
    "    try:\n",
    "        data.append(json.loads(json_str))\n",
    "    except json.JSONDecodeError as e:\n",
    "        print(f\"Error parsing JSON: {e}\")\n",
    "        print(f\"Offending string: {json_str}\")\n",
    "\n",
    "#json_data = [json.loads(json_str) for json_str in data_convert]\n",
    "\n",
    "# Create DataFrame\n",
    "df = pd.DataFrame(data)\n",
    "\n",
    "# Display DataFrame\n",
    "print(df[:10])\n"
   ]
  },
  {
   "cell_type": "code",
   "execution_count": 6,
   "metadata": {},
   "outputs": [
    {
     "data": {
      "text/html": [
       "<div>\n",
       "<style scoped>\n",
       "    .dataframe tbody tr th:only-of-type {\n",
       "        vertical-align: middle;\n",
       "    }\n",
       "\n",
       "    .dataframe tbody tr th {\n",
       "        vertical-align: top;\n",
       "    }\n",
       "\n",
       "    .dataframe thead th {\n",
       "        text-align: right;\n",
       "    }\n",
       "</style>\n",
       "<table border=\"1\" class=\"dataframe\">\n",
       "  <thead>\n",
       "    <tr style=\"text-align: right;\">\n",
       "      <th></th>\n",
       "      <th>beer/name</th>\n",
       "      <th>beer/beerId</th>\n",
       "      <th>beer/brewerId</th>\n",
       "      <th>beer/ABV</th>\n",
       "      <th>beer/style</th>\n",
       "      <th>review/appearance</th>\n",
       "      <th>review/aroma</th>\n",
       "      <th>review/palate</th>\n",
       "      <th>review/taste</th>\n",
       "      <th>review/overall</th>\n",
       "      <th>review/time</th>\n",
       "      <th>review/profileName</th>\n",
       "      <th>review/text</th>\n",
       "    </tr>\n",
       "  </thead>\n",
       "  <tbody>\n",
       "    <tr>\n",
       "      <th>0</th>\n",
       "      <td>John Harvards Simcoe IPA</td>\n",
       "      <td>63836</td>\n",
       "      <td>8481</td>\n",
       "      <td>5.4</td>\n",
       "      <td>India Pale Ale (IPA)</td>\n",
       "      <td>4/5</td>\n",
       "      <td>6/10</td>\n",
       "      <td>3/5</td>\n",
       "      <td>6/10</td>\n",
       "      <td>13/20</td>\n",
       "      <td>1157587200</td>\n",
       "      <td>hopdog</td>\n",
       "      <td>On tap at the Springfield, PA location. Poured...</td>\n",
       "    </tr>\n",
       "    <tr>\n",
       "      <th>1</th>\n",
       "      <td>John Harvards Simcoe IPA</td>\n",
       "      <td>63836</td>\n",
       "      <td>8481</td>\n",
       "      <td>5.4</td>\n",
       "      <td>India Pale Ale (IPA)</td>\n",
       "      <td>4/5</td>\n",
       "      <td>6/10</td>\n",
       "      <td>4/5</td>\n",
       "      <td>7/10</td>\n",
       "      <td>13/20</td>\n",
       "      <td>1157241600</td>\n",
       "      <td>TomDecapolis</td>\n",
       "      <td>On tap at the John Harvards in Springfield PA....</td>\n",
       "    </tr>\n",
       "    <tr>\n",
       "      <th>2</th>\n",
       "      <td>John Harvards Cristal Pilsner</td>\n",
       "      <td>71716</td>\n",
       "      <td>8481</td>\n",
       "      <td>5</td>\n",
       "      <td>Bohemian Pilsener</td>\n",
       "      <td>4/5</td>\n",
       "      <td>5/10</td>\n",
       "      <td>3/5</td>\n",
       "      <td>6/10</td>\n",
       "      <td>14/20</td>\n",
       "      <td>958694400</td>\n",
       "      <td>PhillyBeer2112</td>\n",
       "      <td>UPDATED: FEB 19, 2003 Springfield, PA. Ive nev...</td>\n",
       "    </tr>\n",
       "    <tr>\n",
       "      <th>3</th>\n",
       "      <td>John Harvards Fancy Lawnmower Beer</td>\n",
       "      <td>64125</td>\n",
       "      <td>8481</td>\n",
       "      <td>5.4</td>\n",
       "      <td>Klsch</td>\n",
       "      <td>2/5</td>\n",
       "      <td>4/10</td>\n",
       "      <td>2/5</td>\n",
       "      <td>4/10</td>\n",
       "      <td>8/20</td>\n",
       "      <td>1157587200</td>\n",
       "      <td>TomDecapolis</td>\n",
       "      <td>On tap the Springfield PA location billed as t...</td>\n",
       "    </tr>\n",
       "    <tr>\n",
       "      <th>4</th>\n",
       "      <td>John Harvards Fancy Lawnmower Beer</td>\n",
       "      <td>64125</td>\n",
       "      <td>8481</td>\n",
       "      <td>5.4</td>\n",
       "      <td>Klsch</td>\n",
       "      <td>2/5</td>\n",
       "      <td>4/10</td>\n",
       "      <td>2/5</td>\n",
       "      <td>4/10</td>\n",
       "      <td>8/20</td>\n",
       "      <td>1157587200</td>\n",
       "      <td>hopdog</td>\n",
       "      <td>On tap at the Springfield, PA location. Poured...</td>\n",
       "    </tr>\n",
       "  </tbody>\n",
       "</table>\n",
       "</div>"
      ],
      "text/plain": [
       "                            beer/name beer/beerId beer/brewerId beer/ABV  \\\n",
       "0            John Harvards Simcoe IPA       63836          8481      5.4   \n",
       "1            John Harvards Simcoe IPA       63836          8481      5.4   \n",
       "2       John Harvards Cristal Pilsner       71716          8481        5   \n",
       "3  John Harvards Fancy Lawnmower Beer       64125          8481      5.4   \n",
       "4  John Harvards Fancy Lawnmower Beer       64125          8481      5.4   \n",
       "\n",
       "             beer/style review/appearance review/aroma review/palate  \\\n",
       "0  India Pale Ale (IPA)               4/5         6/10           3/5   \n",
       "1  India Pale Ale (IPA)               4/5         6/10           4/5   \n",
       "2     Bohemian Pilsener               4/5         5/10           3/5   \n",
       "3                 Klsch               2/5         4/10           2/5   \n",
       "4                 Klsch               2/5         4/10           2/5   \n",
       "\n",
       "  review/taste review/overall review/time review/profileName  \\\n",
       "0         6/10          13/20  1157587200             hopdog   \n",
       "1         7/10          13/20  1157241600       TomDecapolis   \n",
       "2         6/10          14/20   958694400     PhillyBeer2112   \n",
       "3         4/10           8/20  1157587200       TomDecapolis   \n",
       "4         4/10           8/20  1157587200             hopdog   \n",
       "\n",
       "                                         review/text  \n",
       "0  On tap at the Springfield, PA location. Poured...  \n",
       "1  On tap at the John Harvards in Springfield PA....  \n",
       "2  UPDATED: FEB 19, 2003 Springfield, PA. Ive nev...  \n",
       "3  On tap the Springfield PA location billed as t...  \n",
       "4  On tap at the Springfield, PA location. Poured...  "
      ]
     },
     "execution_count": 6,
     "metadata": {},
     "output_type": "execute_result"
    }
   ],
   "source": [
    "beers = df\n",
    "beers.head()"
   ]
  },
  {
   "cell_type": "code",
   "execution_count": 16,
   "metadata": {},
   "outputs": [],
   "source": [
    "# Definimos una función para convertir \"x/y\" en un número flotante\n",
    "def convert_to_float(fraction):\n",
    "    num, denom = fraction.split('/')\n",
    "    return float(num) / float(denom)"
   ]
  },
  {
   "cell_type": "code",
   "execution_count": 17,
   "metadata": {},
   "outputs": [],
   "source": [
    "# Aplicamos la función a las columnas relevantes y añadimos nuevas columnas al DataFrame\n",
    "beers['review/appearance_value'] = df['review/appearance'].apply(convert_to_float)\n",
    "beers['review/aroma_value'] = df['review/aroma'].apply(convert_to_float)\n",
    "beers['review/palate_value'] = df['review/palate'].apply(convert_to_float)\n",
    "beers['review/taste_value'] = df['review/taste'].apply(convert_to_float)\n",
    "beers['review/overall_value'] = df['review/overall'].apply(convert_to_float)"
   ]
  },
  {
   "cell_type": "code",
   "execution_count": 18,
   "metadata": {},
   "outputs": [
    {
     "data": {
      "text/html": [
       "<div>\n",
       "<style scoped>\n",
       "    .dataframe tbody tr th:only-of-type {\n",
       "        vertical-align: middle;\n",
       "    }\n",
       "\n",
       "    .dataframe tbody tr th {\n",
       "        vertical-align: top;\n",
       "    }\n",
       "\n",
       "    .dataframe thead th {\n",
       "        text-align: right;\n",
       "    }\n",
       "</style>\n",
       "<table border=\"1\" class=\"dataframe\">\n",
       "  <thead>\n",
       "    <tr style=\"text-align: right;\">\n",
       "      <th></th>\n",
       "      <th>beer/name</th>\n",
       "      <th>beer/beerId</th>\n",
       "      <th>beer/brewerId</th>\n",
       "      <th>beer/ABV</th>\n",
       "      <th>beer/style</th>\n",
       "      <th>review/appearance</th>\n",
       "      <th>review/aroma</th>\n",
       "      <th>review/palate</th>\n",
       "      <th>review/taste</th>\n",
       "      <th>review/overall</th>\n",
       "      <th>review/time</th>\n",
       "      <th>review/profileName</th>\n",
       "      <th>review/text</th>\n",
       "      <th>review/appearance_value</th>\n",
       "      <th>review/aroma_value</th>\n",
       "      <th>review/palate_value</th>\n",
       "      <th>review/taste_value</th>\n",
       "      <th>review/overall_value</th>\n",
       "    </tr>\n",
       "  </thead>\n",
       "  <tbody>\n",
       "    <tr>\n",
       "      <th>0</th>\n",
       "      <td>John Harvards Simcoe IPA</td>\n",
       "      <td>63836</td>\n",
       "      <td>8481</td>\n",
       "      <td>5.4</td>\n",
       "      <td>India Pale Ale (IPA)</td>\n",
       "      <td>4/5</td>\n",
       "      <td>6/10</td>\n",
       "      <td>3/5</td>\n",
       "      <td>6/10</td>\n",
       "      <td>13/20</td>\n",
       "      <td>1157587200</td>\n",
       "      <td>hopdog</td>\n",
       "      <td>On tap at the Springfield, PA location. Poured...</td>\n",
       "      <td>0.8</td>\n",
       "      <td>0.6</td>\n",
       "      <td>0.6</td>\n",
       "      <td>0.6</td>\n",
       "      <td>0.65</td>\n",
       "    </tr>\n",
       "    <tr>\n",
       "      <th>1</th>\n",
       "      <td>John Harvards Simcoe IPA</td>\n",
       "      <td>63836</td>\n",
       "      <td>8481</td>\n",
       "      <td>5.4</td>\n",
       "      <td>India Pale Ale (IPA)</td>\n",
       "      <td>4/5</td>\n",
       "      <td>6/10</td>\n",
       "      <td>4/5</td>\n",
       "      <td>7/10</td>\n",
       "      <td>13/20</td>\n",
       "      <td>1157241600</td>\n",
       "      <td>TomDecapolis</td>\n",
       "      <td>On tap at the John Harvards in Springfield PA....</td>\n",
       "      <td>0.8</td>\n",
       "      <td>0.6</td>\n",
       "      <td>0.8</td>\n",
       "      <td>0.7</td>\n",
       "      <td>0.65</td>\n",
       "    </tr>\n",
       "    <tr>\n",
       "      <th>2</th>\n",
       "      <td>John Harvards Cristal Pilsner</td>\n",
       "      <td>71716</td>\n",
       "      <td>8481</td>\n",
       "      <td>5</td>\n",
       "      <td>Bohemian Pilsener</td>\n",
       "      <td>4/5</td>\n",
       "      <td>5/10</td>\n",
       "      <td>3/5</td>\n",
       "      <td>6/10</td>\n",
       "      <td>14/20</td>\n",
       "      <td>958694400</td>\n",
       "      <td>PhillyBeer2112</td>\n",
       "      <td>UPDATED: FEB 19, 2003 Springfield, PA. Ive nev...</td>\n",
       "      <td>0.8</td>\n",
       "      <td>0.5</td>\n",
       "      <td>0.6</td>\n",
       "      <td>0.6</td>\n",
       "      <td>0.70</td>\n",
       "    </tr>\n",
       "    <tr>\n",
       "      <th>3</th>\n",
       "      <td>John Harvards Fancy Lawnmower Beer</td>\n",
       "      <td>64125</td>\n",
       "      <td>8481</td>\n",
       "      <td>5.4</td>\n",
       "      <td>Klsch</td>\n",
       "      <td>2/5</td>\n",
       "      <td>4/10</td>\n",
       "      <td>2/5</td>\n",
       "      <td>4/10</td>\n",
       "      <td>8/20</td>\n",
       "      <td>1157587200</td>\n",
       "      <td>TomDecapolis</td>\n",
       "      <td>On tap the Springfield PA location billed as t...</td>\n",
       "      <td>0.4</td>\n",
       "      <td>0.4</td>\n",
       "      <td>0.4</td>\n",
       "      <td>0.4</td>\n",
       "      <td>0.40</td>\n",
       "    </tr>\n",
       "    <tr>\n",
       "      <th>4</th>\n",
       "      <td>John Harvards Fancy Lawnmower Beer</td>\n",
       "      <td>64125</td>\n",
       "      <td>8481</td>\n",
       "      <td>5.4</td>\n",
       "      <td>Klsch</td>\n",
       "      <td>2/5</td>\n",
       "      <td>4/10</td>\n",
       "      <td>2/5</td>\n",
       "      <td>4/10</td>\n",
       "      <td>8/20</td>\n",
       "      <td>1157587200</td>\n",
       "      <td>hopdog</td>\n",
       "      <td>On tap at the Springfield, PA location. Poured...</td>\n",
       "      <td>0.4</td>\n",
       "      <td>0.4</td>\n",
       "      <td>0.4</td>\n",
       "      <td>0.4</td>\n",
       "      <td>0.40</td>\n",
       "    </tr>\n",
       "  </tbody>\n",
       "</table>\n",
       "</div>"
      ],
      "text/plain": [
       "                            beer/name beer/beerId beer/brewerId beer/ABV  \\\n",
       "0            John Harvards Simcoe IPA       63836          8481      5.4   \n",
       "1            John Harvards Simcoe IPA       63836          8481      5.4   \n",
       "2       John Harvards Cristal Pilsner       71716          8481        5   \n",
       "3  John Harvards Fancy Lawnmower Beer       64125          8481      5.4   \n",
       "4  John Harvards Fancy Lawnmower Beer       64125          8481      5.4   \n",
       "\n",
       "             beer/style review/appearance review/aroma review/palate  \\\n",
       "0  India Pale Ale (IPA)               4/5         6/10           3/5   \n",
       "1  India Pale Ale (IPA)               4/5         6/10           4/5   \n",
       "2     Bohemian Pilsener               4/5         5/10           3/5   \n",
       "3                 Klsch               2/5         4/10           2/5   \n",
       "4                 Klsch               2/5         4/10           2/5   \n",
       "\n",
       "  review/taste review/overall review/time review/profileName  \\\n",
       "0         6/10          13/20  1157587200             hopdog   \n",
       "1         7/10          13/20  1157241600       TomDecapolis   \n",
       "2         6/10          14/20   958694400     PhillyBeer2112   \n",
       "3         4/10           8/20  1157587200       TomDecapolis   \n",
       "4         4/10           8/20  1157587200             hopdog   \n",
       "\n",
       "                                         review/text  review/appearance_value  \\\n",
       "0  On tap at the Springfield, PA location. Poured...                      0.8   \n",
       "1  On tap at the John Harvards in Springfield PA....                      0.8   \n",
       "2  UPDATED: FEB 19, 2003 Springfield, PA. Ive nev...                      0.8   \n",
       "3  On tap the Springfield PA location billed as t...                      0.4   \n",
       "4  On tap at the Springfield, PA location. Poured...                      0.4   \n",
       "\n",
       "   review/aroma_value  review/palate_value  review/taste_value  \\\n",
       "0                 0.6                  0.6                 0.6   \n",
       "1                 0.6                  0.8                 0.7   \n",
       "2                 0.5                  0.6                 0.6   \n",
       "3                 0.4                  0.4                 0.4   \n",
       "4                 0.4                  0.4                 0.4   \n",
       "\n",
       "   review/overall_value  \n",
       "0                  0.65  \n",
       "1                  0.65  \n",
       "2                  0.70  \n",
       "3                  0.40  \n",
       "4                  0.40  "
      ]
     },
     "execution_count": 18,
     "metadata": {},
     "output_type": "execute_result"
    }
   ],
   "source": [
    "beers.head()"
   ]
  },
  {
   "cell_type": "markdown",
   "metadata": {},
   "source": [
    "## Paso 3: Analisis Exploratorio\n",
    "\n",
    "Nos familiarizaremos con el subconjunto de datos ratings. Revisaremos cuantos ratings existen, usuarios unicos y peliculas unicas."
   ]
  },
  {
   "cell_type": "code",
   "execution_count": 19,
   "metadata": {},
   "outputs": [
    {
     "name": "stdout",
     "output_type": "stream",
     "text": [
      "Total de ratings: 2924163\n",
      "Total unicos de cervezas: 110369\n",
      "Total unicos de cerveceras: 7547\n",
      "Total de usuarios unicos: 29265\n",
      "Promedio de ratings por usuario: 99.92\n",
      "Promedio de ratings por cerveza: 26.49\n",
      "Promedio de ratings por cervecera: 387.46\n"
     ]
    }
   ],
   "source": [
    "n_ratings = len(beers)\n",
    "n_cervezas = beers['beer/beerId'].nunique()\n",
    "n_usuarios = beers['review/profileName'].nunique()\n",
    "n_cerveceras = beers['beer/brewerId'].nunique()\n",
    "\n",
    "print(f\"Total de ratings: {n_ratings}\")\n",
    "print(f\"Total unicos de cervezas: {n_cervezas}\")\n",
    "print(f\"Total unicos de cerveceras: {n_cerveceras}\")\n",
    "print(f\"Total de usuarios unicos: {n_usuarios}\")\n",
    "print(f\"Promedio de ratings por usuario: {round(n_ratings/n_usuarios, 2)}\")\n",
    "print(f\"Promedio de ratings por cerveza: {round(n_ratings/n_cervezas, 2)}\")\n",
    "print(f\"Promedio de ratings por cervecera: {round(n_ratings/n_cerveceras, 2)}\")"
   ]
  },
  {
   "cell_type": "markdown",
   "metadata": {},
   "source": [
    "Analicemos el total de ratings de los usuarios. Utilizaremos `count()` y `groupby()` de pandas al agrupar los datos a partir de los ids de usuarios y contabilizar el numero de ratings."
   ]
  },
  {
   "cell_type": "code",
   "execution_count": 20,
   "metadata": {},
   "outputs": [
    {
     "data": {
      "text/html": [
       "<div>\n",
       "<style scoped>\n",
       "    .dataframe tbody tr th:only-of-type {\n",
       "        vertical-align: middle;\n",
       "    }\n",
       "\n",
       "    .dataframe tbody tr th {\n",
       "        vertical-align: top;\n",
       "    }\n",
       "\n",
       "    .dataframe thead th {\n",
       "        text-align: right;\n",
       "    }\n",
       "</style>\n",
       "<table border=\"1\" class=\"dataframe\">\n",
       "  <thead>\n",
       "    <tr style=\"text-align: right;\">\n",
       "      <th></th>\n",
       "      <th>review/profileName</th>\n",
       "      <th>n_ratings</th>\n",
       "    </tr>\n",
       "  </thead>\n",
       "  <tbody>\n",
       "    <tr>\n",
       "      <th>0</th>\n",
       "      <td>-BB-99</td>\n",
       "      <td>2</td>\n",
       "    </tr>\n",
       "    <tr>\n",
       "      <th>1</th>\n",
       "      <td>000pete1983</td>\n",
       "      <td>1</td>\n",
       "    </tr>\n",
       "    <tr>\n",
       "      <th>2</th>\n",
       "      <td>007BeerDrinker</td>\n",
       "      <td>1</td>\n",
       "    </tr>\n",
       "    <tr>\n",
       "      <th>3</th>\n",
       "      <td>007Lager</td>\n",
       "      <td>1</td>\n",
       "    </tr>\n",
       "    <tr>\n",
       "      <th>4</th>\n",
       "      <td>007lund</td>\n",
       "      <td>86</td>\n",
       "    </tr>\n",
       "  </tbody>\n",
       "</table>\n",
       "</div>"
      ],
      "text/plain": [
       "  review/profileName  n_ratings\n",
       "0             -BB-99          2\n",
       "1        000pete1983          1\n",
       "2     007BeerDrinker          1\n",
       "3           007Lager          1\n",
       "4            007lund         86"
      ]
     },
     "execution_count": 20,
     "metadata": {},
     "output_type": "execute_result"
    }
   ],
   "source": [
    "user_freq = beers[['review/profileName', 'beer/beerId']].groupby('review/profileName').count().reset_index()\n",
    "user_freq.columns = ['review/profileName', 'n_ratings']\n",
    "user_freq.head()"
   ]
  },
  {
   "cell_type": "code",
   "execution_count": 22,
   "metadata": {},
   "outputs": [
    {
     "name": "stdout",
     "output_type": "stream",
     "text": [
      "Numero de ratings por usuario: 99.92.\n"
     ]
    }
   ],
   "source": [
    "print(f\"Numero de ratings por usuario: {user_freq['n_ratings'].mean():.2f}.\")"
   ]
  },
  {
   "cell_type": "code",
   "execution_count": 11,
   "metadata": {},
   "outputs": [
    {
     "data": {
      "image/png": "[encoded data removed]",
      "text/plain": [
       "<Figure size 1400x500 with 2 Axes>"
      ]
     },
     "metadata": {},
     "output_type": "display_data"
    }
   ],
   "source": [
    "sns.set_style(\"whitegrid\")\n",
    "plt.figure(figsize=(14,5))\n",
    "plt.subplot(1,2,1)\n",
    "ax = sns.countplot(x=\"beer/beerId\", data=beers, palette=\"rocket\")\n",
    "plt.title(\"Distribucion de ratings para cerveceras\")\n",
    "\n",
    "plt.subplot(1,2,2)\n",
    "ax = sns.kdeplot(user_freq['n_ratings'], fill=True, legend=False)\n",
    "plt.axvline(user_freq['n_ratings'].mean(), color=\"k\", linestyle=\"--\")\n",
    "plt.xlim(0, 2000)\n",
    "plt.xlabel(\"# ratings por usuario\")\n",
    "plt.ylabel(\"beer/beerId\")\n",
    "plt.title(\"Numero de cervezas rankeadas por usuario\")\n",
    "plt.show()"
   ]
  },
  {
   "cell_type": "markdown",
   "metadata": {},
   "source": [
    "### Si deseamos conocer cual es la cerveza con el rating promedio mas bajo y cual es la que tiene el ranting mas alto?"
   ]
  },
  {
   "cell_type": "code",
   "execution_count": 23,
   "metadata": {},
   "outputs": [
    {
     "name": "stdout",
     "output_type": "stream",
     "text": [
      "Cerveza con el rating mas bajo\n"
     ]
    },
    {
     "data": {
      "text/html": [
       "<div>\n",
       "<style scoped>\n",
       "    .dataframe tbody tr th:only-of-type {\n",
       "        vertical-align: middle;\n",
       "    }\n",
       "\n",
       "    .dataframe tbody tr th {\n",
       "        vertical-align: top;\n",
       "    }\n",
       "\n",
       "    .dataframe thead th {\n",
       "        text-align: right;\n",
       "    }\n",
       "</style>\n",
       "<table border=\"1\" class=\"dataframe\">\n",
       "  <thead>\n",
       "    <tr style=\"text-align: right;\">\n",
       "      <th></th>\n",
       "      <th>beer/name</th>\n",
       "      <th>beer/beerId</th>\n",
       "      <th>beer/brewerId</th>\n",
       "      <th>beer/ABV</th>\n",
       "      <th>beer/style</th>\n",
       "      <th>review/appearance</th>\n",
       "      <th>review/aroma</th>\n",
       "      <th>review/palate</th>\n",
       "      <th>review/taste</th>\n",
       "      <th>review/overall</th>\n",
       "      <th>review/time</th>\n",
       "      <th>review/profileName</th>\n",
       "      <th>review/text</th>\n",
       "      <th>review/appearance_value</th>\n",
       "      <th>review/aroma_value</th>\n",
       "      <th>review/palate_value</th>\n",
       "      <th>review/taste_value</th>\n",
       "      <th>review/overall_value</th>\n",
       "    </tr>\n",
       "  </thead>\n",
       "  <tbody>\n",
       "    <tr>\n",
       "      <th>2613550</th>\n",
       "      <td>Pups Monadnock Harvest Hard Cider</td>\n",
       "      <td>100425</td>\n",
       "      <td>10296</td>\n",
       "      <td>8</td>\n",
       "      <td>Cider</td>\n",
       "      <td>4/5</td>\n",
       "      <td>1/10</td>\n",
       "      <td>1/5</td>\n",
       "      <td>1/10</td>\n",
       "      <td>1/20</td>\n",
       "      <td>1278547200</td>\n",
       "      <td>mdesq</td>\n",
       "      <td>I purchased a bottle of Pups cider from my loc...</td>\n",
       "      <td>0.8</td>\n",
       "      <td>0.1</td>\n",
       "      <td>0.2</td>\n",
       "      <td>0.1</td>\n",
       "      <td>0.05</td>\n",
       "    </tr>\n",
       "  </tbody>\n",
       "</table>\n",
       "</div>"
      ],
      "text/plain": [
       "                                 beer/name beer/beerId beer/brewerId beer/ABV  \\\n",
       "2613550  Pups Monadnock Harvest Hard Cider      100425         10296        8   \n",
       "\n",
       "        beer/style review/appearance review/aroma review/palate review/taste  \\\n",
       "2613550      Cider               4/5         1/10           1/5         1/10   \n",
       "\n",
       "        review/overall review/time review/profileName  \\\n",
       "2613550           1/20  1278547200              mdesq   \n",
       "\n",
       "                                               review/text  \\\n",
       "2613550  I purchased a bottle of Pups cider from my loc...   \n",
       "\n",
       "         review/appearance_value  review/aroma_value  review/palate_value  \\\n",
       "2613550                      0.8                 0.1                  0.2   \n",
       "\n",
       "         review/taste_value  review/overall_value  \n",
       "2613550                 0.1                  0.05  "
      ]
     },
     "execution_count": 23,
     "metadata": {},
     "output_type": "execute_result"
    }
   ],
   "source": [
    "rating_media = beers.groupby('beer/beerId')[['review/overall_value']].mean()\n",
    "print(f\"Cerveza con el rating mas bajo\")\n",
    "rating_bajo = rating_media['review/overall_value'].idxmin()\n",
    "beers.loc[beers['beer/beerId'] == rating_bajo]\n"
   ]
  },
  {
   "cell_type": "code",
   "execution_count": 25,
   "metadata": {},
   "outputs": [
    {
     "name": "stdout",
     "output_type": "stream",
     "text": [
      "Cerveza con el rating mas alto\n"
     ]
    },
    {
     "data": {
      "text/html": [
       "<div>\n",
       "<style scoped>\n",
       "    .dataframe tbody tr th:only-of-type {\n",
       "        vertical-align: middle;\n",
       "    }\n",
       "\n",
       "    .dataframe tbody tr th {\n",
       "        vertical-align: top;\n",
       "    }\n",
       "\n",
       "    .dataframe thead th {\n",
       "        text-align: right;\n",
       "    }\n",
       "</style>\n",
       "<table border=\"1\" class=\"dataframe\">\n",
       "  <thead>\n",
       "    <tr style=\"text-align: right;\">\n",
       "      <th></th>\n",
       "      <th>beer/name</th>\n",
       "      <th>beer/beerId</th>\n",
       "      <th>beer/brewerId</th>\n",
       "      <th>beer/ABV</th>\n",
       "      <th>beer/style</th>\n",
       "      <th>review/appearance</th>\n",
       "      <th>review/aroma</th>\n",
       "      <th>review/palate</th>\n",
       "      <th>review/taste</th>\n",
       "      <th>review/overall</th>\n",
       "      <th>review/time</th>\n",
       "      <th>review/profileName</th>\n",
       "      <th>review/text</th>\n",
       "      <th>review/appearance_value</th>\n",
       "      <th>review/aroma_value</th>\n",
       "      <th>review/palate_value</th>\n",
       "      <th>review/taste_value</th>\n",
       "      <th>review/overall_value</th>\n",
       "    </tr>\n",
       "  </thead>\n",
       "  <tbody>\n",
       "    <tr>\n",
       "      <th>1562838</th>\n",
       "      <td>Bullfrog Apricot Wheat (Kegs Gone Wild)</td>\n",
       "      <td>101673</td>\n",
       "      <td>539</td>\n",
       "      <td>5</td>\n",
       "      <td>Wheat Ale</td>\n",
       "      <td>5/5</td>\n",
       "      <td>9/10</td>\n",
       "      <td>5/5</td>\n",
       "      <td>9/10</td>\n",
       "      <td>20/20</td>\n",
       "      <td>1238889600</td>\n",
       "      <td>soto</td>\n",
       "      <td>Simply amazing taste. Very fruity. Pours with ...</td>\n",
       "      <td>1.0</td>\n",
       "      <td>0.9</td>\n",
       "      <td>1.0</td>\n",
       "      <td>0.9</td>\n",
       "      <td>1.0</td>\n",
       "    </tr>\n",
       "  </tbody>\n",
       "</table>\n",
       "</div>"
      ],
      "text/plain": [
       "                                       beer/name beer/beerId beer/brewerId  \\\n",
       "1562838  Bullfrog Apricot Wheat (Kegs Gone Wild)      101673           539   \n",
       "\n",
       "        beer/ABV beer/style review/appearance review/aroma review/palate  \\\n",
       "1562838        5  Wheat Ale               5/5         9/10           5/5   \n",
       "\n",
       "        review/taste review/overall review/time review/profileName  \\\n",
       "1562838         9/10          20/20  1238889600               soto   \n",
       "\n",
       "                                               review/text  \\\n",
       "1562838  Simply amazing taste. Very fruity. Pours with ...   \n",
       "\n",
       "         review/appearance_value  review/aroma_value  review/palate_value  \\\n",
       "1562838                      1.0                 0.9                  1.0   \n",
       "\n",
       "         review/taste_value  review/overall_value  \n",
       "1562838                 0.9                   1.0  "
      ]
     },
     "execution_count": 25,
     "metadata": {},
     "output_type": "execute_result"
    }
   ],
   "source": [
    "rating_alto = rating_media['review/overall_value'].idxmax()\n",
    "print(f\"Cerveza con el rating mas alto\")\n",
    "beers.loc[beers['beer/beerId'] == rating_alto]"
   ]
  },
  {
   "cell_type": "markdown",
   "metadata": {},
   "source": [
    "Analicemos la cantidad de ratings que tiene la mejor cerveza."
   ]
  },
  {
   "cell_type": "code",
   "execution_count": 26,
   "metadata": {},
   "outputs": [
    {
     "data": {
      "text/html": [
       "<div>\n",
       "<style scoped>\n",
       "    .dataframe tbody tr th:only-of-type {\n",
       "        vertical-align: middle;\n",
       "    }\n",
       "\n",
       "    .dataframe tbody tr th {\n",
       "        vertical-align: top;\n",
       "    }\n",
       "\n",
       "    .dataframe thead th {\n",
       "        text-align: right;\n",
       "    }\n",
       "</style>\n",
       "<table border=\"1\" class=\"dataframe\">\n",
       "  <thead>\n",
       "    <tr style=\"text-align: right;\">\n",
       "      <th></th>\n",
       "      <th>beer/name</th>\n",
       "      <th>beer/beerId</th>\n",
       "      <th>beer/brewerId</th>\n",
       "      <th>beer/ABV</th>\n",
       "      <th>beer/style</th>\n",
       "      <th>review/appearance</th>\n",
       "      <th>review/aroma</th>\n",
       "      <th>review/palate</th>\n",
       "      <th>review/taste</th>\n",
       "      <th>review/overall</th>\n",
       "      <th>review/time</th>\n",
       "      <th>review/profileName</th>\n",
       "      <th>review/text</th>\n",
       "      <th>review/appearance_value</th>\n",
       "      <th>review/aroma_value</th>\n",
       "      <th>review/palate_value</th>\n",
       "      <th>review/taste_value</th>\n",
       "      <th>review/overall_value</th>\n",
       "    </tr>\n",
       "  </thead>\n",
       "  <tbody>\n",
       "    <tr>\n",
       "      <th>1562838</th>\n",
       "      <td>Bullfrog Apricot Wheat (Kegs Gone Wild)</td>\n",
       "      <td>101673</td>\n",
       "      <td>539</td>\n",
       "      <td>5</td>\n",
       "      <td>Wheat Ale</td>\n",
       "      <td>5/5</td>\n",
       "      <td>9/10</td>\n",
       "      <td>5/5</td>\n",
       "      <td>9/10</td>\n",
       "      <td>20/20</td>\n",
       "      <td>1238889600</td>\n",
       "      <td>soto</td>\n",
       "      <td>Simply amazing taste. Very fruity. Pours with ...</td>\n",
       "      <td>1.0</td>\n",
       "      <td>0.9</td>\n",
       "      <td>1.0</td>\n",
       "      <td>0.9</td>\n",
       "      <td>1.0</td>\n",
       "    </tr>\n",
       "  </tbody>\n",
       "</table>\n",
       "</div>"
      ],
      "text/plain": [
       "                                       beer/name beer/beerId beer/brewerId  \\\n",
       "1562838  Bullfrog Apricot Wheat (Kegs Gone Wild)      101673           539   \n",
       "\n",
       "        beer/ABV beer/style review/appearance review/aroma review/palate  \\\n",
       "1562838        5  Wheat Ale               5/5         9/10           5/5   \n",
       "\n",
       "        review/taste review/overall review/time review/profileName  \\\n",
       "1562838         9/10          20/20  1238889600               soto   \n",
       "\n",
       "                                               review/text  \\\n",
       "1562838  Simply amazing taste. Very fruity. Pours with ...   \n",
       "\n",
       "         review/appearance_value  review/aroma_value  review/palate_value  \\\n",
       "1562838                      1.0                 0.9                  1.0   \n",
       "\n",
       "         review/taste_value  review/overall_value  \n",
       "1562838                 0.9                   1.0  "
      ]
     },
     "execution_count": 26,
     "metadata": {},
     "output_type": "execute_result"
    }
   ],
   "source": [
    "beers[beers['beer/beerId']==rating_alto]"
   ]
  },
  {
   "cell_type": "markdown",
   "metadata": {},
   "source": [
    "Revisando los ratings, Lamerica solo tiene 2 calificaciones. \n",
    "Por lo tanto, la mejor manera de evaluar la popularidad de una pelicula es utilizando Promedios Bayesianos."
   ]
  },
  {
   "cell_type": "markdown",
   "metadata": {},
   "source": [
    "## Promedio Bayesiano\n",
    "\n",
    "Se define de la siguiente manera:\n",
    "\n",
    "$r_{i} = \\frac{C \\times m + \\Sigma{\\text{reviews}}}{C+N}$\n",
    "\n",
    "Donde $C$ representa la confianza, $m$ representa el promedio aritmetico, y $N$ es el numero total de \"reviews\" de una pelicula $i$. En este caso, $m$ correspondera al promedio de ratings considerando todas las peliculas. Por definicion, C representa \"el tamano tipico del dataset\". Por lo tanto $C$ sera el el promedio de ratings para una pelicula determinada."
   ]
  },
  {
   "cell_type": "code",
   "execution_count": 30,
   "metadata": {},
   "outputs": [],
   "source": [
    "beers_stats = beers.groupby('beer/beerId')[['review/overall_value']].agg(['count', 'mean'])\n",
    "beers_stats.columns = beers_stats.columns.droplevel()"
   ]
  },
  {
   "cell_type": "code",
   "execution_count": 31,
   "metadata": {},
   "outputs": [],
   "source": [
    "C = beers_stats['count'].mean()\n",
    "m = beers_stats['mean'].mean()\n",
    "\n",
    "def promedio_bayesiano(ratings):\n",
    "    promedio_bayesiano = (C*m+ratings.sum())/(C+ratings.count())\n",
    "    return promedio_bayesiano\n",
    "\n",
    "ratings_promedio_bayesiano = beers.groupby('beer/beerId')['review/overall_value'].agg(promedio_bayesiano).reset_index()\n",
    "ratings_promedio_bayesiano.columns = ['beer/beerId', 'promedio_bayesiano']\n",
    "beers_stats = beers_stats.merge(ratings_promedio_bayesiano, on='beer/beerId')"
   ]
  },
  {
   "cell_type": "code",
   "execution_count": 32,
   "metadata": {},
   "outputs": [
    {
     "data": {
      "text/html": [
       "<div>\n",
       "<style scoped>\n",
       "    .dataframe tbody tr th:only-of-type {\n",
       "        vertical-align: middle;\n",
       "    }\n",
       "\n",
       "    .dataframe tbody tr th {\n",
       "        vertical-align: top;\n",
       "    }\n",
       "\n",
       "    .dataframe thead th {\n",
       "        text-align: right;\n",
       "    }\n",
       "</style>\n",
       "<table border=\"1\" class=\"dataframe\">\n",
       "  <thead>\n",
       "    <tr style=\"text-align: right;\">\n",
       "      <th></th>\n",
       "      <th>beer/beerId</th>\n",
       "      <th>count</th>\n",
       "      <th>mean</th>\n",
       "      <th>promedio_bayesiano</th>\n",
       "      <th>beer/name</th>\n",
       "    </tr>\n",
       "  </thead>\n",
       "  <tbody>\n",
       "    <tr>\n",
       "      <th>1730528</th>\n",
       "      <td>4934</td>\n",
       "      <td>2060</td>\n",
       "      <td>0.911311</td>\n",
       "      <td>0.907745</td>\n",
       "      <td>Westvleteren 12</td>\n",
       "    </tr>\n",
       "    <tr>\n",
       "      <th>1729129</th>\n",
       "      <td>4934</td>\n",
       "      <td>2060</td>\n",
       "      <td>0.911311</td>\n",
       "      <td>0.907745</td>\n",
       "      <td>Westvleteren 12</td>\n",
       "    </tr>\n",
       "    <tr>\n",
       "      <th>1729163</th>\n",
       "      <td>4934</td>\n",
       "      <td>2060</td>\n",
       "      <td>0.911311</td>\n",
       "      <td>0.907745</td>\n",
       "      <td>Westvleteren 12</td>\n",
       "    </tr>\n",
       "    <tr>\n",
       "      <th>1729164</th>\n",
       "      <td>4934</td>\n",
       "      <td>2060</td>\n",
       "      <td>0.911311</td>\n",
       "      <td>0.907745</td>\n",
       "      <td>Westvleteren 12</td>\n",
       "    </tr>\n",
       "    <tr>\n",
       "      <th>1729165</th>\n",
       "      <td>4934</td>\n",
       "      <td>2060</td>\n",
       "      <td>0.911311</td>\n",
       "      <td>0.907745</td>\n",
       "      <td>Westvleteren 12</td>\n",
       "    </tr>\n",
       "  </tbody>\n",
       "</table>\n",
       "</div>"
      ],
      "text/plain": [
       "        beer/beerId  count      mean  promedio_bayesiano        beer/name\n",
       "1730528        4934   2060  0.911311            0.907745  Westvleteren 12\n",
       "1729129        4934   2060  0.911311            0.907745  Westvleteren 12\n",
       "1729163        4934   2060  0.911311            0.907745  Westvleteren 12\n",
       "1729164        4934   2060  0.911311            0.907745  Westvleteren 12\n",
       "1729165        4934   2060  0.911311            0.907745  Westvleteren 12"
      ]
     },
     "execution_count": 32,
     "metadata": {},
     "output_type": "execute_result"
    }
   ],
   "source": [
    "beers_stats = beers_stats.merge(beers[['beer/beerId', 'beer/name']])\n",
    "beers_stats.sort_values('promedio_bayesiano', ascending=False).head()"
   ]
  },
  {
   "cell_type": "markdown",
   "metadata": {},
   "source": [
    "Al utilizar el Promedio Bayesiano podemos notar que la cerveza `Westvleteren 12` es la cerveza con el rating mas alto. \n",
    "\n",
    "\n",
    "Cual es ahora la cerveza con el peor rating segun los Promedios Bayesianos?"
   ]
  },
  {
   "cell_type": "code",
   "execution_count": 33,
   "metadata": {},
   "outputs": [
    {
     "data": {
      "text/html": [
       "<div>\n",
       "<style scoped>\n",
       "    .dataframe tbody tr th:only-of-type {\n",
       "        vertical-align: middle;\n",
       "    }\n",
       "\n",
       "    .dataframe tbody tr th {\n",
       "        vertical-align: top;\n",
       "    }\n",
       "\n",
       "    .dataframe thead th {\n",
       "        text-align: right;\n",
       "    }\n",
       "</style>\n",
       "<table border=\"1\" class=\"dataframe\">\n",
       "  <thead>\n",
       "    <tr style=\"text-align: right;\">\n",
       "      <th></th>\n",
       "      <th>beer/beerId</th>\n",
       "      <th>count</th>\n",
       "      <th>mean</th>\n",
       "      <th>promedio_bayesiano</th>\n",
       "      <th>beer/name</th>\n",
       "    </tr>\n",
       "  </thead>\n",
       "  <tbody>\n",
       "    <tr>\n",
       "      <th>1885816</th>\n",
       "      <td>5530</td>\n",
       "      <td>411</td>\n",
       "      <td>0.147689</td>\n",
       "      <td>0.176929</td>\n",
       "      <td>ODouls</td>\n",
       "    </tr>\n",
       "    <tr>\n",
       "      <th>1885745</th>\n",
       "      <td>5530</td>\n",
       "      <td>411</td>\n",
       "      <td>0.147689</td>\n",
       "      <td>0.176929</td>\n",
       "      <td>ODouls</td>\n",
       "    </tr>\n",
       "    <tr>\n",
       "      <th>1885746</th>\n",
       "      <td>5530</td>\n",
       "      <td>411</td>\n",
       "      <td>0.147689</td>\n",
       "      <td>0.176929</td>\n",
       "      <td>ODouls</td>\n",
       "    </tr>\n",
       "    <tr>\n",
       "      <th>1885747</th>\n",
       "      <td>5530</td>\n",
       "      <td>411</td>\n",
       "      <td>0.147689</td>\n",
       "      <td>0.176929</td>\n",
       "      <td>ODouls</td>\n",
       "    </tr>\n",
       "    <tr>\n",
       "      <th>1885748</th>\n",
       "      <td>5530</td>\n",
       "      <td>411</td>\n",
       "      <td>0.147689</td>\n",
       "      <td>0.176929</td>\n",
       "      <td>ODouls</td>\n",
       "    </tr>\n",
       "  </tbody>\n",
       "</table>\n",
       "</div>"
      ],
      "text/plain": [
       "        beer/beerId  count      mean  promedio_bayesiano beer/name\n",
       "1885816        5530    411  0.147689            0.176929    ODouls\n",
       "1885745        5530    411  0.147689            0.176929    ODouls\n",
       "1885746        5530    411  0.147689            0.176929    ODouls\n",
       "1885747        5530    411  0.147689            0.176929    ODouls\n",
       "1885748        5530    411  0.147689            0.176929    ODouls"
      ]
     },
     "execution_count": 33,
     "metadata": {},
     "output_type": "execute_result"
    }
   ],
   "source": [
    "beers_stats.sort_values('promedio_bayesiano', ascending=True).head()"
   ]
  },
  {
   "cell_type": "markdown",
   "metadata": {},
   "source": [
    "Al utilizar Promedios Bayesianos de nuevo, la cerveza `ODouls` es la que tiene el peor rating por lo que la cerveza `Pups Monadnock Harvest Hard Cider` no es en realidad la peor (como se creia en pasos anteriores)."
   ]
  },
  {
   "cell_type": "markdown",
   "metadata": {},
   "source": [
    "## Paso 4: Transformando los datos\n",
    "\n",
    "Se utilizara una tecnica denominada [filtrado colaborativo](https://en.wikipedia.org/wiki/Collaborative_filtering) para generar recomendaciones para el usuario. Esta tecnica parte de la suposicion de homogeneidad en los datos (usuarios similares les interesan las mismas cosas). El filtrado colaborativo es un tipo de aprendizaje no supervisado que realiza predicciones acerca de los intereses de un usuario al aprender de los intereses de una poblacion de gran tamaño.\n",
    "\n",
    "El primer paso del filtrado colaborativo consiste en transformar nuestros datos en una `matriz usuario-item (user-item matrix)`. En dicha matriz, las filas representan a los usuarios y las columnas representan a los items. El filtrado colaborativo no requiere de informacion sobre los usuarios o los items para generar las recomendaciones.\n",
    "\n",
    "\n",
    "<img src=\"imagenes/user-movie-matrix.png\" width=\"500px\" align=\"left\">"
   ]
  },
  {
   "cell_type": "markdown",
   "metadata": {},
   "source": [
    "La funcion `create_X()` crea una matriz dispersa X a partir de 4 diccionarios de mapeo principales\n",
    "\n",
    "- **mapeo_usuario:** mapea el ID usuario al indice del usuario\n",
    "- **mapeo_pelicula:** maps movie id to movie index\n",
    "- **user_inv_mapper:** maps user index to user id\n",
    "- **movie_inv_mapper:** maps movie index to movie id\n",
    "\n",
    "Requerimos de estos diccionarios porque mapean la fila y columna de la matriz de utilidad corresponden que ID de usuario e ID de película, respectivamente.\n",
    "\n",
    "La matriz **X** (user-item) matrix es una matriz [scipy.sparse.csr_matrix](scipylinkhere) que almacena los datos de manera disperas."
   ]
  },
  {
   "cell_type": "code",
   "execution_count": 34,
   "metadata": {},
   "outputs": [],
   "source": [
    "from scipy.sparse import csr_matrix\n",
    "\n",
    "def create_X(df):\n",
    "    \"\"\"\n",
    "    Genera una matriz dispersa a partir del dataframe de ratings\n",
    "    \n",
    "    Argumentos:\n",
    "        df: dataframe en pandas\n",
    "    \n",
    "    Regresa:\n",
    "        X: matriz dispersa\n",
    "        mapeo_usuario: dict que mapea el id del usuario con los indices del usuario\n",
    "        mapeo_inverso_usuario: dict que mapea los indices del usuario con los id's del usuario\n",
    "        mapeo_pelicula: dict que mapea los id's de las peliculas con los indices de las peliculas\n",
    "        mapeo_inverso_pelicula: dict que mapea los indices de las peliculas con los id's de las peliculas\n",
    "    \"\"\"\n",
    "    N = df['review/profileName'].nunique()\n",
    "    M = df['beer/beerId'].nunique()\n",
    "\n",
    "    mapeo_usuario = dict(zip(np.unique(df[\"review/profileName\"]), list(range(N))))\n",
    "    mapeo_pelicula = dict(zip(np.unique(df[\"beer/beerId\"]), list(range(M))))\n",
    "    \n",
    "    mapeo_inverso_usuario = dict(zip(list(range(N)), np.unique(df[\"review/profileName\"])))\n",
    "    mapeo_inverso_pelicula = dict(zip(list(range(M)), np.unique(df[\"beer/beerId\"])))\n",
    "    \n",
    "    user_index = [mapeo_usuario[i] for i in df['review/profileName']]\n",
    "    movie_index = [mapeo_pelicula[i] for i in df['beer/beerId']]\n",
    "\n",
    "    X = csr_matrix((df[\"review/overall_value\"], (movie_index, user_index)), shape=(M, N))\n",
    "    \n",
    "    return X, mapeo_usuario, mapeo_pelicula, mapeo_inverso_usuario, mapeo_inverso_pelicula"
   ]
  },
  {
   "cell_type": "code",
   "execution_count": 38,
   "metadata": {},
   "outputs": [],
   "source": [
    "X, user_mapper, beer_mapper, user_inv_mapper, beer_inv_mapper = create_X(beers)"
   ]
  },
  {
   "cell_type": "markdown",
   "metadata": {},
   "source": [
    "Podremos calcular la dispersion de nuestra matriz X al dividir el total de elementos no ceros por el total de elementos."
   ]
  },
  {
   "cell_type": "code",
   "execution_count": 39,
   "metadata": {},
   "outputs": [
    {
     "name": "stdout",
     "output_type": "stream",
     "text": [
      "Dispersion de la Matriz: 0.09%\n"
     ]
    }
   ],
   "source": [
    "sparsity = X.count_nonzero()/(X.shape[0]*X.shape[1])\n",
    "\n",
    "print(f\"Dispersion de la Matriz: {round(sparsity*100,2)}%\")"
   ]
  },
  {
   "cell_type": "markdown",
   "metadata": {},
   "source": [
    "Esto nos indica que solo el 1.7% de las celdas de la matriz usuario-item tienen ratings. Regularmente esto sucede en este tipo de matrices y como regla general la dispersion no debe ser menor a 0.5% para obtener resultados aceptables."
   ]
  },
  {
   "cell_type": "markdown",
   "metadata": {},
   "source": [
    "### Guardando la matriz a un archivo\n",
    "\n",
    "Guardaremos la matriz usuario-item para el siguiente paso. Dado que nuestra matriz esta representada como una matriz dispersa scipy (scipy sparse matrix),utilizaremos el metodo [scipy.sparse.save_npz](https://docs.scipy.org/doc/scipy-1.1.0/reference/generated/scipy.sparse.load_npz.html) para guardar nuestra matriz como archivo."
   ]
  },
  {
   "cell_type": "code",
   "execution_count": 40,
   "metadata": {},
   "outputs": [],
   "source": [
    "from scipy.sparse import save_npz\n",
    "\n",
    "save_npz('equipo27/matriz_usuario_item.npz', X)"
   ]
  },
  {
   "cell_type": "markdown",
   "metadata": {},
   "source": [
    "\n",
    "\n",
    "## Paso 5: Hallando cervezas parecidas utilizando KNN (k-Nearest Neighbours)\n",
    "\n",
    "Al utilizar esta estrategia, podemos hallar los $k$ vecinos de una pelicula determinada al identificar los $k$ puntos en el dataset que estan mas cercanos a la pelicula $m$. kNN hace uso de metricas de distancias tales como:\n",
    "\n",
    "1. Similaridad Coseno (Cosine similarity)\n",
    "2. Distancia Euclidiana (Euclidean distance)\n",
    "3. Distancia Manhattan (Manhattan distance)\n",
    "4. Correlacion de Pearson (Pearson correlation )\n",
    "\n",
    "Es un tanto cuanto dificil de visualizar, pero estamos trabajando en un espacio multidimensional M (donde M representa el numero de peliculas en nuestra matriz X)\n"
   ]
  },
  {
   "cell_type": "code",
   "execution_count": 41,
   "metadata": {},
   "outputs": [],
   "source": [
    "from sklearn.neighbors import NearestNeighbors\n",
    "\n",
    "def encuentra_cervezas_parecidas(beer_id, X, k, metric='cosine', show_distance=False):\n",
    "    \"\"\"\n",
    "    Encuentra los k-vecinos para un pelicula dada (a partir de su id)\n",
    "    \n",
    "    Argumentos:\n",
    "        beer_id: id de la cerveza en cuestion\n",
    "        X: matriz de utilidad usuario-item\n",
    "        k: numero de peliculas similares a encontrar\n",
    "        metric: metrica a utilizar para los calculos de kNN\n",
    "    \n",
    "    Devuelve:\n",
    "        lista de k ID's de peliculas similares\n",
    "    \"\"\"\n",
    "    neighbour_ids = []\n",
    "    \n",
    "    beer_ind = beer_mapper[beer_id]\n",
    "    beer_vec = X[beer_ind]\n",
    "    k+=1\n",
    "    kNN = NearestNeighbors(n_neighbors=k, algorithm=\"brute\", metric=metric)\n",
    "    kNN.fit(X)\n",
    "    if isinstance(beer_vec, (np.ndarray)):\n",
    "        beer_vec = beer_vec.reshape(1,-1)\n",
    "    neighbour = kNN.kneighbors(beer_vec, return_distance=show_distance)\n",
    "    for i in range(0,k):\n",
    "        n = neighbour.item(i)\n",
    "        neighbour_ids.append(beer_inv_mapper[n])\n",
    "    neighbour_ids.pop(0)\n",
    "    return neighbour_ids"
   ]
  },
  {
   "cell_type": "markdown",
   "metadata": {},
   "source": [
    "`encuentra_cervezas_parecidas()` toma beer ID y la matriz user-item X, y despliega una lista de $k$ peliculas que son parecidas al beerId en cuestion. \n",
    "\n",
    "Crearemos ahora un mapeo de `beerId` a `beer name` para que los resultados sean faciles de interpretar. "
   ]
  },
  {
   "cell_type": "code",
   "execution_count": 47,
   "metadata": {},
   "outputs": [
    {
     "name": "stdout",
     "output_type": "stream",
     "text": [
      "Por que visualizaste la cerveza Westvleteren 12\n",
      "Te pueden interesar las siguientes cervezas:\n",
      "Westvleteren Extra 8\n",
      "St. Bernardus Abt 12\n",
      "Three Floyds Dark Lord Russian Imperial Stout\n",
      "AleSmith Speedway Stout\n",
      "Orval\n"
     ]
    }
   ],
   "source": [
    "nombre_cervezas = dict(zip(beers['beer/beerId'], beers['beer/name']))\n",
    "\n",
    "beer_id = '4934'\n",
    "\n",
    "ids_parecidos = encuentra_cervezas_parecidas(beer_id, X, k=5)\n",
    "beer_title = nombre_cervezas[beer_id]\n",
    "\n",
    "print(f\"Por que visualizaste la cerveza {beer_title}\")\n",
    "print(f\"Te pueden interesar las siguientes cervezas:\")\n",
    "for i in ids_parecidos:\n",
    "    print(nombre_cervezas[i])"
   ]
  },
  {
   "cell_type": "markdown",
   "metadata": {},
   "source": [
    "Los resultados obtenidos muestran las 5 peliculas mas parecidas a Golden Eye. La mayor parte de las peliculas son de accion de los 90s. Es importante recalcar que las recomendaciones se basan en los ratings user-item. Los generos no son tomados en consideracion en esta primer revision. \n",
    "\n",
    "Se puede utilizar una metrica de distancia distinta, como euclidiana o manhattan en lugar de coseno."
   ]
  },
  {
   "cell_type": "code",
   "execution_count": 49,
   "metadata": {},
   "outputs": [
    {
     "name": "stdout",
     "output_type": "stream",
     "text": [
      "Porque buscaste la cerveza Westvleteren 12:\n",
      "Te pueden interesar las siguientes cervezas:\n",
      "Westvleteren Extra 8\n",
      "Westvleteren Blond\n",
      "De Dolle Stille Nacht\n",
      "Abbaye des Rocs Brune\n",
      "Three Floyds Dark Lord Russian Imperial Stout\n"
     ]
    }
   ],
   "source": [
    "nombre_cervezas = dict(zip(beers['beer/beerId'], beers['beer/name']))\n",
    "\n",
    "beer_id = '4934'\n",
    "ids_parecidos = encuentra_cervezas_parecidas(beer_id, X, k=5, metric=\"euclidean\")\n",
    "\n",
    "beer_title = nombre_cervezas[beer_id]\n",
    "print(f\"Porque buscaste la cerveza {beer_title}:\")\n",
    "print(f\"Te pueden interesar las siguientes cervezas:\")\n",
    "for i in ids_parecidos:\n",
    "    print(nombre_cervezas[i])"
   ]
  },
  {
   "cell_type": "markdown",
   "metadata": {},
   "source": [
    "# Recomendaciones finales:\n",
    "\n",
    "## Repite todos los pasos contenidos en este proyecto e intenta calcular las recomendaciones utilizando otras metricas y tu dataset. Sube los resultados a tu repositorio Github."
   ]
  }
 ],
 "metadata": {
  "kernelspec": {
   "display_name": "Python 3",
   "language": "python",
   "name": "python3"
  },
  "language_info": {
   "codemirror_mode": {
    "name": "ipython",
    "version": 3
   },
   "file_extension": ".py",
   "mimetype": "text/x-python",
   "name": "python",
   "nbconvert_exporter": "python",
   "pygments_lexer": "ipython3",
   "version": "3.10.9"
  }
 },
 "nbformat": 4,
 "nbformat_minor": 2
}
